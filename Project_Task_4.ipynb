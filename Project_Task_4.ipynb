{
  "nbformat": 4,
  "nbformat_minor": 0,
  "metadata": {
    "colab": {
      "provenance": []
    },
    "kernelspec": {
      "name": "python3",
      "display_name": "Python 3"
    },
    "language_info": {
      "name": "python"
    }
  },
  "cells": [
    {
      "cell_type": "markdown",
      "source": [
        "# **A Qml Model for Sin Function**"
      ],
      "metadata": {
        "id": "Xy_6iB41hwK2"
      }
    },
    {
      "cell_type": "code",
      "source": [
        "!pip install pennylane"
      ],
      "metadata": {
        "colab": {
          "base_uri": "https://localhost:8080/"
        },
        "id": "FLZOF5pasZBE",
        "outputId": "f3d885da-370d-49ed-f6bc-9df628a6f500",
        "collapsed": true
      },
      "execution_count": 1,
      "outputs": [
        {
          "output_type": "stream",
          "name": "stdout",
          "text": [
            "Collecting pennylane\n",
            "  Downloading PennyLane-0.37.0-py3-none-any.whl.metadata (9.3 kB)\n",
            "Requirement already satisfied: numpy<2.0 in /usr/local/lib/python3.10/dist-packages (from pennylane) (1.26.4)\n",
            "Requirement already satisfied: scipy in /usr/local/lib/python3.10/dist-packages (from pennylane) (1.13.1)\n",
            "Requirement already satisfied: networkx in /usr/local/lib/python3.10/dist-packages (from pennylane) (3.3)\n",
            "Collecting rustworkx (from pennylane)\n",
            "  Downloading rustworkx-0.15.1-cp38-abi3-manylinux_2_17_x86_64.manylinux2014_x86_64.whl.metadata (9.9 kB)\n",
            "Requirement already satisfied: autograd in /usr/local/lib/python3.10/dist-packages (from pennylane) (1.6.2)\n",
            "Requirement already satisfied: toml in /usr/local/lib/python3.10/dist-packages (from pennylane) (0.10.2)\n",
            "Collecting appdirs (from pennylane)\n",
            "  Downloading appdirs-1.4.4-py2.py3-none-any.whl.metadata (9.0 kB)\n",
            "Collecting semantic-version>=2.7 (from pennylane)\n",
            "  Downloading semantic_version-2.10.0-py2.py3-none-any.whl.metadata (9.7 kB)\n",
            "Collecting autoray>=0.6.11 (from pennylane)\n",
            "  Downloading autoray-0.6.12-py3-none-any.whl.metadata (5.7 kB)\n",
            "Requirement already satisfied: cachetools in /usr/local/lib/python3.10/dist-packages (from pennylane) (5.5.0)\n",
            "Collecting pennylane-lightning>=0.37 (from pennylane)\n",
            "  Downloading PennyLane_Lightning-0.37.0-cp310-cp310-manylinux_2_28_x86_64.whl.metadata (23 kB)\n",
            "Requirement already satisfied: requests in /usr/local/lib/python3.10/dist-packages (from pennylane) (2.32.3)\n",
            "Requirement already satisfied: typing-extensions in /usr/local/lib/python3.10/dist-packages (from pennylane) (4.12.2)\n",
            "Requirement already satisfied: packaging in /usr/local/lib/python3.10/dist-packages (from pennylane) (24.1)\n",
            "Requirement already satisfied: future>=0.15.2 in /usr/local/lib/python3.10/dist-packages (from autograd->pennylane) (1.0.0)\n",
            "Requirement already satisfied: charset-normalizer<4,>=2 in /usr/local/lib/python3.10/dist-packages (from requests->pennylane) (3.3.2)\n",
            "Requirement already satisfied: idna<4,>=2.5 in /usr/local/lib/python3.10/dist-packages (from requests->pennylane) (3.7)\n",
            "Requirement already satisfied: urllib3<3,>=1.21.1 in /usr/local/lib/python3.10/dist-packages (from requests->pennylane) (2.0.7)\n",
            "Requirement already satisfied: certifi>=2017.4.17 in /usr/local/lib/python3.10/dist-packages (from requests->pennylane) (2024.7.4)\n",
            "Downloading PennyLane-0.37.0-py3-none-any.whl (1.8 MB)\n",
            "\u001b[2K   \u001b[90m━━━━━━━━━━━━━━━━━━━━━━━━━━━━━━━━━━━━━━━━\u001b[0m \u001b[32m1.8/1.8 MB\u001b[0m \u001b[31m7.3 MB/s\u001b[0m eta \u001b[36m0:00:00\u001b[0m\n",
            "\u001b[?25hDownloading autoray-0.6.12-py3-none-any.whl (50 kB)\n",
            "\u001b[2K   \u001b[90m━━━━━━━━━━━━━━━━━━━━━━━━━━━━━━━━━━━━━━━━\u001b[0m \u001b[32m51.0/51.0 kB\u001b[0m \u001b[31m3.1 MB/s\u001b[0m eta \u001b[36m0:00:00\u001b[0m\n",
            "\u001b[?25hDownloading PennyLane_Lightning-0.37.0-cp310-cp310-manylinux_2_28_x86_64.whl (15.5 MB)\n",
            "\u001b[2K   \u001b[90m━━━━━━━━━━━━━━━━━━━━━━━━━━━━━━━━━━━━━━━━\u001b[0m \u001b[32m15.5/15.5 MB\u001b[0m \u001b[31m32.5 MB/s\u001b[0m eta \u001b[36m0:00:00\u001b[0m\n",
            "\u001b[?25hDownloading semantic_version-2.10.0-py2.py3-none-any.whl (15 kB)\n",
            "Downloading appdirs-1.4.4-py2.py3-none-any.whl (9.6 kB)\n",
            "Downloading rustworkx-0.15.1-cp38-abi3-manylinux_2_17_x86_64.manylinux2014_x86_64.whl (2.0 MB)\n",
            "\u001b[2K   \u001b[90m━━━━━━━━━━━━━━━━━━━━━━━━━━━━━━━━━━━━━━━━\u001b[0m \u001b[32m2.0/2.0 MB\u001b[0m \u001b[31m30.8 MB/s\u001b[0m eta \u001b[36m0:00:00\u001b[0m\n",
            "\u001b[?25hInstalling collected packages: appdirs, semantic-version, rustworkx, autoray, pennylane-lightning, pennylane\n",
            "Successfully installed appdirs-1.4.4 autoray-0.6.12 pennylane-0.37.0 pennylane-lightning-0.37.0 rustworkx-0.15.1 semantic-version-2.10.0\n"
          ]
        }
      ]
    },
    {
      "cell_type": "code",
      "source": [
        "#Importing required library\n",
        "\n",
        "import pennylane as qml\n",
        "from pennylane import numpy as np\n",
        "import matplotlib.pyplot as plt"
      ],
      "metadata": {
        "id": "jj91WD-4ZIGz"
      },
      "execution_count": 2,
      "outputs": []
    },
    {
      "cell_type": "code",
      "source": [
        "# preparing the required data\n",
        "input_data=np.linspace(0,2*np.pi,10)\n",
        "output_data=np.sin(input_data)\n",
        "test_data=np.linspace(0.5,1.8*np.pi,10)\n",
        "test_output=np.sin(test_data)"
      ],
      "metadata": {
        "id": "01MqUCh3jlK_"
      },
      "execution_count": 3,
      "outputs": []
    },
    {
      "cell_type": "markdown",
      "source": [
        "Here, we prepares some **test_data** to evaluate the performance of our model later."
      ],
      "metadata": {
        "id": "F_NjXpwDtrk7"
      }
    },
    {
      "cell_type": "code",
      "source": [
        "dev=qml.device(\"default.qubit\",wires=1)\n",
        "\n",
        "@qml.qnode(dev)\n",
        "def my_circuit(params,input):                                       # Define the quantum circuit with parameters and input\n",
        "  qml.RY(input,wires=0)                                             # Apply a rotation around the Y-axis based on the input\n",
        "\n",
        "  # Apply rotations around the X, Y, and Z axes based on parameters\n",
        "\n",
        "  qml.RX(params[0],wires=0)\n",
        "  qml.RY(params[1],wires=0)\n",
        "  qml.RZ(params[2],wires=0)\n",
        "\n",
        "  return qml.expval(qml.PauliZ(0))"
      ],
      "metadata": {
        "id": "AIfYJmRqt8cd"
      },
      "execution_count": 4,
      "outputs": []
    },
    {
      "cell_type": "markdown",
      "source": [
        "Here, we have built a quantum circuit with some quantum operations that will do some processes to the input data that we are giving and produce us some output"
      ],
      "metadata": {
        "id": "OUHRjRLZwLXZ"
      }
    },
    {
      "cell_type": "code",
      "source": [
        "def cost(params, input, output):\n",
        "    params_np = np.array(params)\n",
        "    predictions = np.array([my_circuit(params_np, x) for x in input])     # Make predictions using the quantum circuit\n",
        "    cost_value = np.mean((predictions - output) ** 2)                     # Calculate the mean squared error (MSE) between predictions and actual outputs\n",
        "    return cost_value\n",
        "\n",
        "def accuracy(labels, predictions):                                        # Calculates the accuracy of predictions\n",
        "    acc = sum(abs(l - p) < 1e-5 for l, p in zip(labels, predictions))\n",
        "    acc = acc / len(labels)\n",
        "    return acc"
      ],
      "metadata": {
        "id": "uAlWHToMwK9i"
      },
      "execution_count": 5,
      "outputs": []
    },
    {
      "cell_type": "markdown",
      "source": [
        "Then we defined the cost and accuracy function. The cost function actually gives us the result on how far off the input data is from the original data and the accuracy will give us how many predictions we got right."
      ],
      "metadata": {
        "id": "28s7dnC5w5Yo"
      }
    },
    {
      "cell_type": "code",
      "source": [
        "optimizer=qml.AdamOptimizer(stepsize=0.1)\n",
        "\n",
        "params=np.array([0.1,0.1,0.1],requires_grad=True)"
      ],
      "metadata": {
        "id": "5noT-_0tw0us"
      },
      "execution_count": 6,
      "outputs": []
    },
    {
      "cell_type": "markdown",
      "source": [
        "Here, we initialized an optimizer and parameters that will find the optimal values of the parameters that minimize the cost function. Actually, by using them, we can\n",
        "* 1. Train the quantum circuit: The optimizer updates the parameters to minimize the loss function, which allows the quantum circuit to learn from the data.\n",
        "* 2. Optimize the quantum circuit: The optimizer finds the optimal values of the parameters that produce the desired output, which can lead to improved performance and accuracy."
      ],
      "metadata": {
        "id": "tWnkOqHdyF3w"
      }
    },
    {
      "cell_type": "code",
      "source": [
        "for i in range(200):\n",
        "    result = optimizer.step(cost, params, input_data, output_data)          # Updates parameters using the optimizer\n",
        "    params = np.array(result[0])                                            # Extracts updated parameters\n",
        "    if (i+1) % 20 == 0:\n",
        "        cost_value = cost(params, input_data, output_data)                  # Calculates the cost after each step\n",
        "        test_predictions = [my_circuit(params, x_test) for x_test in test_data]\n",
        "        test_accuracy = accuracy(test_output, test_predictions)             # Calculates accuracy on the test data\n",
        "        print(f\"Iteration {i+1}: Cost = {cost_value}, Accuracy = {test_accuracy}\")"
      ],
      "metadata": {
        "colab": {
          "base_uri": "https://localhost:8080/"
        },
        "id": "HTmRosPnx-RD",
        "outputId": "b56f1526-3bab-46de-9923-61a89b8fa463"
      },
      "execution_count": 7,
      "outputs": [
        {
          "output_type": "stream",
          "name": "stdout",
          "text": [
            "Iteration 20: Cost = 0.0001618682313247473, Accuracy = 0.0\n",
            "Iteration 40: Cost = 0.0053852011116879124, Accuracy = 0.0\n",
            "Iteration 60: Cost = 3.4868814021052626e-08, Accuracy = 0.0\n",
            "Iteration 80: Cost = 8.388930791688708e-05, Accuracy = 0.0\n",
            "Iteration 100: Cost = 1.6963627475811786e-06, Accuracy = 0.0\n",
            "Iteration 120: Cost = 6.064225520250333e-07, Accuracy = 0.0\n",
            "Iteration 140: Cost = 1.7862093920778778e-07, Accuracy = 0.0\n",
            "Iteration 160: Cost = 9.837542893993875e-09, Accuracy = 0.0\n",
            "Iteration 180: Cost = 4.366818517364476e-11, Accuracy = 1.0\n",
            "Iteration 200: Cost = 3.0322695778099176e-11, Accuracy = 1.0\n"
          ]
        }
      ]
    },
    {
      "cell_type": "markdown",
      "source": [
        "Here, we utilize the optimizer to update the model's parameters based on the computed error and subsequent iterations. It will keep getting better."
      ],
      "metadata": {
        "id": "cErjli4d12_L"
      }
    },
    {
      "cell_type": "markdown",
      "source": [
        "Now we do generate results with our test_data to check if our model can generalize the test_data."
      ],
      "metadata": {
        "id": "HAZGuo8Gi0jx"
      }
    },
    {
      "cell_type": "code",
      "source": [
        "test_predictions = []\n",
        "for x_test in test_data: # Iterate over test inputs\n",
        "    prediction = my_circuit(params,x_test) # Make predictions using the trained model\n",
        "    test_predictions.append(prediction)"
      ],
      "metadata": {
        "id": "M-CwAK6U11vs"
      },
      "execution_count": 8,
      "outputs": []
    },
    {
      "cell_type": "markdown",
      "source": [
        "As we have written the codes for generalizing the test_data, We will create the plt to visualize the result."
      ],
      "metadata": {
        "id": "40yqfLLSi2hs"
      }
    },
    {
      "cell_type": "code",
      "source": [
        "fig = plt.figure()\n",
        "ax1 = fig.add_subplot(111)\n",
        "\n",
        "ax1.scatter(input_data, output_data, s=30, c='r', marker=\"s\", label='Train outputs')\n",
        "ax1.scatter(test_data,test_output, s=60, c='k', marker=\"o\", label='Test outputs')\n",
        "ax1.scatter(test_data,test_predictions, s=30, c='y', marker=\"x\", label='Test predicitons')\n",
        "plt.grid()\n",
        "plt.xlabel(\"Inputs\")\n",
        "plt.ylabel(\"Outputs\")\n",
        "plt.title(\"QML results\")\n",
        "\n",
        "plt.legend(loc='upper right');\n",
        "plt.show()"
      ],
      "metadata": {
        "colab": {
          "base_uri": "https://localhost:8080/",
          "height": 472
        },
        "id": "y1UlS7fIkF4-",
        "outputId": "e5fae1a0-8487-4586-9adc-b0c32f8a722e"
      },
      "execution_count": 18,
      "outputs": [
        {
          "output_type": "display_data",
          "data": {
            "text/plain": [
              "<Figure size 640x480 with 1 Axes>"
            ],
            "image/png": "[encoded data removed]"
          },
          "metadata": {}
        }
      ]
    },
    {
      "cell_type": "markdown",
      "source": [
        "For the data sets that we provided, we can observe how well the predictions generated by our model align with the real values. This leads to our understanding of how well our QML model performs."
      ],
      "metadata": {
        "id": "wZq3XuBxlLZw"
      }
    }
  ]
}