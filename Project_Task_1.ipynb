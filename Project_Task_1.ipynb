{
  "nbformat": 4,
  "nbformat_minor": 0,
  "metadata": {
    "colab": {
      "provenance": []
    },
    "kernelspec": {
      "name": "python3",
      "display_name": "Python 3"
    },
    "language_info": {
      "name": "python"
    }
  },
  "cells": [
    {
      "cell_type": "code",
      "execution_count": 9,
      "metadata": {
        "colab": {
          "base_uri": "https://localhost:8080/"
        },
        "collapsed": true,
        "id": "o85eGafqYocQ",
        "outputId": "442a262e-9c98-4e17-a051-204183102a77"
      },
      "outputs": [
        {
          "output_type": "stream",
          "name": "stdout",
          "text": [
            "Requirement already satisfied: pennylane in /usr/local/lib/python3.10/dist-packages (0.37.0)\n",
            "Requirement already satisfied: numpy<2.0 in /usr/local/lib/python3.10/dist-packages (from pennylane) (1.26.4)\n",
            "Requirement already satisfied: scipy in /usr/local/lib/python3.10/dist-packages (from pennylane) (1.13.1)\n",
            "Requirement already satisfied: networkx in /usr/local/lib/python3.10/dist-packages (from pennylane) (3.3)\n",
            "Requirement already satisfied: rustworkx in /usr/local/lib/python3.10/dist-packages (from pennylane) (0.15.1)\n",
            "Requirement already satisfied: autograd in /usr/local/lib/python3.10/dist-packages (from pennylane) (1.6.2)\n",
            "Requirement already satisfied: toml in /usr/local/lib/python3.10/dist-packages (from pennylane) (0.10.2)\n",
            "Requirement already satisfied: appdirs in /usr/local/lib/python3.10/dist-packages (from pennylane) (1.4.4)\n",
            "Requirement already satisfied: semantic-version>=2.7 in /usr/local/lib/python3.10/dist-packages (from pennylane) (2.10.0)\n",
            "Requirement already satisfied: autoray>=0.6.11 in /usr/local/lib/python3.10/dist-packages (from pennylane) (0.6.12)\n",
            "Requirement already satisfied: cachetools in /usr/local/lib/python3.10/dist-packages (from pennylane) (5.4.0)\n",
            "Requirement already satisfied: pennylane-lightning>=0.37 in /usr/local/lib/python3.10/dist-packages (from pennylane) (0.37.0)\n",
            "Requirement already satisfied: requests in /usr/local/lib/python3.10/dist-packages (from pennylane) (2.32.3)\n",
            "Requirement already satisfied: typing-extensions in /usr/local/lib/python3.10/dist-packages (from pennylane) (4.12.2)\n",
            "Requirement already satisfied: packaging in /usr/local/lib/python3.10/dist-packages (from pennylane) (24.1)\n",
            "Requirement already satisfied: future>=0.15.2 in /usr/local/lib/python3.10/dist-packages (from autograd->pennylane) (1.0.0)\n",
            "Requirement already satisfied: charset-normalizer<4,>=2 in /usr/local/lib/python3.10/dist-packages (from requests->pennylane) (3.3.2)\n",
            "Requirement already satisfied: idna<4,>=2.5 in /usr/local/lib/python3.10/dist-packages (from requests->pennylane) (3.7)\n",
            "Requirement already satisfied: urllib3<3,>=1.21.1 in /usr/local/lib/python3.10/dist-packages (from requests->pennylane) (2.0.7)\n",
            "Requirement already satisfied: certifi>=2017.4.17 in /usr/local/lib/python3.10/dist-packages (from requests->pennylane) (2024.7.4)\n"
          ]
        }
      ],
      "source": [
        "!pip install pennylane --upgrade\n",
        "import numpy as np\n",
        "import pennylane as qml\n",
        "import matplotlib.pyplot as plt\n",
        "\n"
      ]
    },
    {
      "cell_type": "markdown",
      "source": [
        "# **Introduction to Quantum Computing**"
      ],
      "metadata": {
        "id": "MKB9T2DoZOi7"
      }
    },
    {
      "cell_type": "markdown",
      "source": [
        "# 1. All About Qubits"
      ],
      "metadata": {
        "id": "GOrThqTnaaLC"
      }
    },
    {
      "cell_type": "markdown",
      "source": [
        "By completing this codercise,\n",
        "* I can now write down a mathematical description of a qubit state in two different notations.\n",
        "* I can define and give examples of what it means for a quantum system to be in a superposition of states.\n",
        "* I can explain the relationship between amplitudes and measurement outcome probabilities, and what it means for a state to be normalized.\n",
        "* I can explain how operations are mathematically applied to qubit states."
      ],
      "metadata": {
        "id": "1r05Hbptb0c2"
      }
    },
    {
      "cell_type": "code",
      "source": [
        "\"\"\" ------ Codercise I.1.1 -> Normalization of Quantum States ------ \"\"\"\n",
        "\n",
        "# Here are the vector representations of |0> and |1>, for convenience\n",
        "ket_0 = np.array([1, 0])\n",
        "ket_1 = np.array([0, 1])\n",
        "\n",
        "\n",
        "def normalize_state(alpha, beta):\n",
        "    \"\"\"Compute a normalized quantum state given arbitrary amplitudes.\n",
        "\n",
        "    Args:\n",
        "        alpha (complex): The amplitude associated with the |0> state.\n",
        "        beta (complex): The amplitude associated with the |1> state.\n",
        "\n",
        "    Returns:\n",
        "        np.array[complex]: A vector (numpy array) with 2 elements that represents\n",
        "        a normalized quantum state.\n",
        "    \"\"\"\n",
        "\n",
        "    ##################\n",
        "    # YOUR CODE HERE #\n",
        "    ##################\n",
        "\n",
        "    # Calculate the norm of the state\n",
        "    norm = np.sqrt(np.abs(alpha)**2 + np.abs(beta)**2)\n",
        "\n",
        "    # Normalize the coefficients\n",
        "    alpha_prime = alpha / norm\n",
        "    beta_prime = beta / norm\n",
        "\n",
        "    # CREATE A VECTOR [a', b'] BASED ON alpha AND beta SUCH THAT |a'|^2 + |b'|^2 = 1\n",
        "\n",
        "    # RETURN A VECTOR\n",
        "    return np.array([alpha_prime, beta_prime])"
      ],
      "metadata": {
        "id": "1mY4W3t2aHld"
      },
      "execution_count": null,
      "outputs": []
    },
    {
      "cell_type": "code",
      "source": [
        "\"\"\" ------ Codercise I.1.2 -> Inner Product & Orthonormal Bases ------ \"\"\"\n",
        "\n",
        "def inner_product(state_1, state_2):\n",
        "    \"\"\"Compute the inner product between two states.\n",
        "\n",
        "    Args:\n",
        "        state_1 (np.array[complex]): A normalized quantum state vector\n",
        "        state_2 (np.array[complex]): A second normalized quantum state vector\n",
        "\n",
        "    Returns:\n",
        "        complex: The value of the inner product <state_1 | state_2>.\n",
        "    \"\"\"\n",
        "\n",
        "    ##################\n",
        "    # YOUR CODE HERE #\n",
        "    ##################\n",
        "\n",
        "    # COMPUTE AND RETURN THE INNER PRODUCT\n",
        "\n",
        "    inner_product_value = np.vdot(state_1, state_2)\n",
        "\n",
        "    return inner_product_value\n",
        "\n",
        "\n",
        "# Test your results with this code\n",
        "ket_0 = np.array([1, 0])\n",
        "ket_1 = np.array([0, 1])\n",
        "\n",
        "print(f\"<0|0> = {inner_product(ket_0, ket_0)}\")\n",
        "print(f\"<0|1> = {inner_product(ket_0, ket_1)}\")\n",
        "print(f\"<1|0> = {inner_product(ket_1, ket_0)}\")\n",
        "print(f\"<1|1> = {inner_product(ket_1, ket_1)}\")\n"
      ],
      "metadata": {
        "colab": {
          "base_uri": "https://localhost:8080/"
        },
        "id": "2XXoug9Ufuo8",
        "outputId": "38c99e6c-419f-42c5-a03a-010613c851fc"
      },
      "execution_count": null,
      "outputs": [
        {
          "output_type": "stream",
          "name": "stdout",
          "text": [
            "<0|0> = 1\n",
            "<0|1> = 0\n",
            "<1|0> = 0\n",
            "<1|1> = 1\n"
          ]
        }
      ]
    },
    {
      "cell_type": "code",
      "source": [
        "\"\"\" ------ Codercise I.1.3 -> Sampling Measurement Outcomes ------ \"\"\"\n",
        "\n",
        "def measure_state(state, num_meas):\n",
        "    \"\"\"Simulate a quantum measurement process.\n",
        "\n",
        "    Args:\n",
        "        state (np.array[complex]): A normalized qubit state vector.\n",
        "        num_meas (int): The number of measurements to take\n",
        "\n",
        "    Returns:\n",
        "        np.array[int]: A set of num_meas samples, 0 or 1, chosen according to the probability\n",
        "        distribution defined by the input state.\n",
        "    \"\"\"\n",
        "\n",
        "    ##################\n",
        "    # YOUR CODE HERE #\n",
        "    ##################\n",
        "    prob_0 = np.abs(state[0])**2\n",
        "    prob_1 = np.abs(state[1])**2\n",
        "\n",
        "    # COMPUTE THE MEASUREMENT OUTCOME PROBABILITIES\n",
        "    assert np.isclose(prob_0 + prob_1, 1), \"Probabilities do not sum to 1\"\n",
        "\n",
        "    # Generate a list of sample measurement outcomes\n",
        "    meas_outcomes = np.random.choice([0, 1], size=num_meas, p=[prob_0, prob_1])\n",
        "\n",
        "    # RETURN A LIST OF SAMPLE MEASUREMENT OUTCOMES\n",
        "    return meas_outcomes\n"
      ],
      "metadata": {
        "id": "BJ0Hfq8fgFoI"
      },
      "execution_count": null,
      "outputs": []
    },
    {
      "cell_type": "code",
      "source": [
        "\"\"\" ------ Codercise I.1.4 -> Applying a Quantum Operation ------ \"\"\"\n",
        "\n",
        "U = np.array([[1, 1], [1, -1]]) / np.sqrt(2)\n",
        "\n",
        "\n",
        "def apply_u(state):\n",
        "    \"\"\"Apply a quantum operation.\n",
        "\n",
        "    Args:\n",
        "        state (np.array[complex]): A normalized quantum state vector.\n",
        "\n",
        "    Returns:\n",
        "        np.array[complex]: The output state after applying U.\n",
        "    \"\"\"\n",
        "\n",
        "    ##################\n",
        "    # YOUR CODE HERE #\n",
        "    ##################\n",
        "    # Apply U to the input state and return the new state\n",
        "    new_state = np.dot(U, state)\n",
        "\n",
        "\n",
        "    # APPLY U TO THE INPUT STATE AND RETURN THE NEW STATE\n",
        "    return new_state"
      ],
      "metadata": {
        "id": "0atHbScHgWZT"
      },
      "execution_count": null,
      "outputs": []
    },
    {
      "cell_type": "code",
      "source": [
        "\"\"\" ------ Codercise I.1.5 -> A Simple Quantum Algorithm ------ \"\"\"\n",
        "\n",
        "U = np.array([[1, 1], [1, -1]]) / np.sqrt(2)\n",
        "\n",
        "\n",
        "def initialize_state():\n",
        "    \"\"\"Prepare a qubit in state |0>.\n",
        "\n",
        "    Returns:\n",
        "        np.array[float]: the vector representation of state |0>.\n",
        "    \"\"\"\n",
        "\n",
        "    ##################\n",
        "    # YOUR CODE HERE #\n",
        "    ##################\n",
        "    state = np.array([1, 0])\n",
        "\n",
        "\n",
        "\n",
        "    # PREPARE THE STATE |0>\n",
        "    return state\n",
        "\n",
        "\n",
        "def apply_u(state):\n",
        "    \"\"\"Apply a quantum operation.\"\"\"\n",
        "    return np.dot(U, state)\n",
        "\n",
        "\n",
        "def measure_state(state, num_meas):\n",
        "    \"\"\"Measure a quantum state num_meas times.\"\"\"\n",
        "    p_alpha = np.abs(state[0]) ** 2\n",
        "    p_beta = np.abs(state[1]) ** 2\n",
        "    meas_outcome = np.random.choice([0, 1], p=[p_alpha, p_beta], size=num_meas)\n",
        "    return meas_outcome\n",
        "\n",
        "\n",
        "def quantum_algorithm():\n",
        "    \"\"\"Use the functions above to implement the quantum algorithm described above.\n",
        "\n",
        "    Try and do so using three lines of code or less!\n",
        "\n",
        "    Returns:\n",
        "        np.array[int]: the measurement results after running the algorithm 100 times\n",
        "    \"\"\"\n",
        "\n",
        "    ##################\n",
        "    # YOUR CODE HERE #\n",
        "    ##################\n",
        "\n",
        "    state = initialize_state()\n",
        "    state = apply_u(state)\n",
        "    meas_outcomes = measure_state(state, 100)\n",
        "\n",
        "    # PREPARE THE STATE, APPLY U, THEN TAKE 100 MEASUREMENT SAMPLES\n",
        "    return meas_outcomes\n"
      ],
      "metadata": {
        "id": "wI4R3FxqguRB"
      },
      "execution_count": null,
      "outputs": []
    },
    {
      "cell_type": "markdown",
      "source": [
        "# 2. Quantum Circuits"
      ],
      "metadata": {
        "id": "hvU8gFwhhMdH"
      }
    },
    {
      "cell_type": "markdown",
      "source": [
        "I have learned\n",
        "* How to identify the different components of a quantum circuit (qubits, gates, and measurements).\n",
        "* How to translate between sequences of instructions and a quantum circuit.\n",
        "* How can I define and calculate the depth of a quantum circuit."
      ],
      "metadata": {
        "id": "1YYBZDMBhROa"
      }
    },
    {
      "cell_type": "code",
      "source": [
        "\"\"\" ------ Codercise I.2.1 -> Order of Operations ------ \"\"\"\n",
        "\n",
        "def my_circuit(theta, phi):\n",
        "    ##################\n",
        "    # YOUR CODE HERE #\n",
        "    ##################\n",
        "\n",
        "    # REORDER THESE 5 GATES TO MATCH THE CIRCUIT IN THE PICTURE\n",
        "\n",
        "    qml.CNOT(wires=[0, 1])\n",
        "    qml.RX(theta, wires=2)\n",
        "    qml.Hadamard(wires=0)\n",
        "    qml.CNOT(wires=[2, 0])\n",
        "\n",
        "\n",
        "    qml.RY(phi, wires=1)\n",
        "\n",
        "    # This is the measurement; we return the probabilities of all possible output states\n",
        "    # You'll learn more about what types of measurements are available in a later node\n",
        "    return qml.probs(wires=[0, 1, 2])"
      ],
      "metadata": {
        "id": "jPMb5Xr5hoIc"
      },
      "execution_count": null,
      "outputs": []
    },
    {
      "cell_type": "code",
      "source": [
        "\"\"\" ------ Codercise I.2.2 -> Building a QNode ------ \"\"\"\n",
        "\n",
        "# This creates a device with three wires on which PennyLane can run computations\n",
        "dev = qml.device(\"default.qubit\", wires=3)\n",
        "\n",
        "\n",
        "def my_circuit(theta, phi, omega):\n",
        "\n",
        "    ##################\n",
        "    # YOUR CODE HERE #\n",
        "    ##################\n",
        "\n",
        "    # IMPLEMENT THE CIRCUIT BY ADDING THE GATES\n",
        "\n",
        "    # Here are two examples, so you can see the format:\n",
        "    # qml.CNOT(wires=[0, 1])\n",
        "    # qml.RX(theta, wires=0)\n",
        "    qml.RX(theta, wires=0)\n",
        "    qml.RY(phi, wires = 1)\n",
        "    qml.RZ(omega, wires=2)\n",
        "    qml.CNOT(wires=[0, 1])\n",
        "    qml.CNOT(wires=[1, 2])\n",
        "    qml.CNOT(wires=[2, 0])\n",
        "\n",
        "\n",
        "    return qml.probs(wires=[0, 1, 2])\n",
        "\n",
        "\n",
        "# This creates a QNode, binding the function and device\n",
        "my_qnode = qml.QNode(my_circuit, dev)\n",
        "\n",
        "# We set up some values for the input parameters\n",
        "theta, phi, omega = 0.1, 0.2, 0.3\n",
        "\n",
        "# Now we can execute the QNode by calling it like we would a regular function\n",
        "my_qnode(theta, phi, omega)\n"
      ],
      "metadata": {
        "colab": {
          "base_uri": "https://localhost:8080/"
        },
        "id": "wHptCCkAiZ_Y",
        "outputId": "1a04bd4e-9c22-4eb1-c08c-8bc39f2beab9"
      },
      "execution_count": null,
      "outputs": [
        {
          "output_type": "execute_result",
          "data": {
            "text/plain": [
              "tensor([9.87560268e-01, 0.00000000e+00, 0.00000000e+00, 2.47302134e-03,\n",
              "        2.48960206e-05, 0.00000000e+00, 0.00000000e+00, 9.94181506e-03], requires_grad=True)"
            ]
          },
          "metadata": {},
          "execution_count": 8
        }
      ]
    },
    {
      "cell_type": "code",
      "source": [
        "\"\"\" ------ Codercise I.2.3 -> The QNode Decorator ------ \"\"\"\n",
        "\n",
        "dev = qml.device(\"default.qubit\", wires=3)\n",
        "\n",
        "##################\n",
        "# YOUR CODE HERE #\n",
        "##################\n",
        "\n",
        "# DECORATE THE FUNCTION BELOW TO TURN IT INTO A QNODE\n",
        "@qml.qnode(dev)\n",
        "\n",
        "\n",
        "def my_circuit(theta, phi, omega):\n",
        "    qml.RX(theta, wires=0)\n",
        "    qml.RY(phi, wires=1)\n",
        "    qml.RZ(omega, wires=2)\n",
        "    qml.CNOT(wires=[0, 1])\n",
        "    qml.CNOT(wires=[1, 2])\n",
        "    qml.CNOT(wires=[2, 0])\n",
        "    return qml.probs(wires=[0, 1, 2])\n",
        "\n",
        "\n",
        "theta, phi, omega = 0.1, 0.2, 0.3\n",
        "\n",
        "##################\n",
        "# YOUR CODE HERE #\n",
        "##################\n",
        "\n",
        "# RUN THE QNODE WITH THE PROVIDED PARAMETERS\n",
        "my_first_QNode = qml.QNode(my_circuit, dev)"
      ],
      "metadata": {
        "id": "X5G847CHiqTD"
      },
      "execution_count": null,
      "outputs": []
    },
    {
      "cell_type": "code",
      "source": [
        "\"\"\" ------ Codercise I.2.4 -> Circuit Depth ------ \"\"\"\n",
        "\n",
        "dev = qml.device(\"default.qubit\", wires=3)\n",
        "\n",
        "\n",
        "@qml.qnode(dev)\n",
        "def my_circuit(theta, phi, omega):\n",
        "    qml.RX(theta, wires=0)\n",
        "    qml.RY(phi, wires=1)\n",
        "    qml.RZ(omega, wires=2)\n",
        "    qml.CNOT(wires=[0, 1])\n",
        "    qml.CNOT(wires=[1, 2])\n",
        "    qml.CNOT(wires=[2, 0])\n",
        "    return qml.probs(wires=[0, 1, 2])\n",
        "\n",
        "\n",
        "##################\n",
        "# YOUR CODE HERE #\n",
        "##################\n",
        "\n",
        "# FILL IN THE CORRECT CIRCUIT DEPTH\n",
        "depth = 4"
      ],
      "metadata": {
        "id": "r9u76zpyi5_L"
      },
      "execution_count": null,
      "outputs": []
    },
    {
      "cell_type": "markdown",
      "source": [
        "# 3. Unitary Matrices"
      ],
      "metadata": {
        "id": "FX4DbNQujFjC"
      }
    },
    {
      "cell_type": "markdown",
      "source": [
        "By learning this,\n",
        "* I can define what it means for a matrix to be unitary.\n",
        "* I can now express a single-qubit unitary operation in terms of 3 real parameters."
      ],
      "metadata": {
        "id": "zbHAzjxRjRXs"
      }
    },
    {
      "cell_type": "code",
      "source": [
        "\"\"\" ------ Codercise I.3.1 -> Unitaries in Pennylane ------ \"\"\"\n",
        "\n",
        "dev = qml.device(\"default.qubit\", wires=1)\n",
        "\n",
        "U = np.array([[1, 1], [1, -1]]) / np.sqrt(2)\n",
        "\n",
        "\n",
        "@qml.qnode(dev)\n",
        "def apply_u():\n",
        "\n",
        "    ##################\n",
        "    # YOUR CODE HERE #\n",
        "    ##################\n",
        "    qml.QubitUnitary(U, wires=0)\n",
        "\n",
        "    # USE QubitUnitary TO APPLY U TO THE QUBIT\n",
        "\n",
        "    # Return the state\n",
        "    return qml.state()"
      ],
      "metadata": {
        "id": "Stx1IOo-jjmR"
      },
      "execution_count": null,
      "outputs": []
    },
    {
      "cell_type": "code",
      "source": [
        "\"\"\" ------ Codercise I.3.2 -> Parametrized Unitaries ------ \"\"\"\n",
        "\n",
        "dev = qml.device(\"default.qubit\", wires=1)\n",
        "\n",
        "\n",
        "@qml.qnode(dev)\n",
        "def apply_u_as_rot(phi, theta, omega):\n",
        "\n",
        "    ##################\n",
        "    # YOUR CODE HERE #\n",
        "    ##################\n",
        "\n",
        "    # APPLY A ROT GATE USING THE PROVIDED INPUT PARAMETERS\n",
        "    qml.Rot(phi, theta, omega, wires=0)\n",
        "\n",
        "    # RETURN THE QUANTUM STATE VECTOR\n",
        "\n",
        "    return qml.state()\n"
      ],
      "metadata": {
        "id": "qSc3cD8Sjw_B"
      },
      "execution_count": null,
      "outputs": []
    },
    {
      "cell_type": "markdown",
      "source": [
        "# **Single-Qubit Gates**"
      ],
      "metadata": {
        "id": "R04LoMCYH-Zy"
      }
    },
    {
      "cell_type": "markdown",
      "source": [
        "# 1. X and H"
      ],
      "metadata": {
        "id": "TDX6c35VIB3R"
      }
    },
    {
      "cell_type": "markdown",
      "source": [
        "After completing this codercise,\n",
        "* I can explain how an operation works by applying the gates to the basis states.\n",
        "* I can describe the action of the X gate, its matrix representation, and eigenvalues.\n",
        "* I can describe the action of the Hadamard gate, its matrix representation, and eigenvalues."
      ],
      "metadata": {
        "id": "OzqL89c8IIyI"
      }
    },
    {
      "cell_type": "code",
      "source": [
        "\"\"\" ------ Codercise I.4.1 -> Flipping Bits ------ \"\"\"\n",
        "\n",
        "dev = qml.device(\"default.qubit\", wires=1)\n",
        "\n",
        "U = np.array([[1, 1], [1, -1]]) / np.sqrt(2)\n",
        "\n",
        "\n",
        "@qml.qnode(dev)\n",
        "def varied_initial_state(state):\n",
        "    \"\"\"Complete the function such that we can apply the operation U to\n",
        "    either |0> or |1> depending on the input argument flag.\n",
        "\n",
        "    Args:\n",
        "        state (int): Either 0 or 1. If 1, prepare the qubit in state |1>,\n",
        "            otherwise, leave it in state 0.\n",
        "\n",
        "    Returns:\n",
        "        np.array[complex]: The state of the qubit after the operations.\n",
        "    \"\"\"\n",
        "    ##################\n",
        "    # YOUR CODE HERE #\n",
        "    ##################\n",
        "\n",
        "    # KEEP THE QUBIT IN |0> OR CHANGE IT TO |1> DEPENDING ON THE state PARAMETER\n",
        "    if state == 1:\n",
        "        qml.PauliX(wires=0)\n",
        "\n",
        "    # APPLY U TO THE STATE\n",
        "    qml.QubitUnitary(U, wires=0)\n",
        "\n",
        "    return qml.state()"
      ],
      "metadata": {
        "id": "_WN_YGLKIwCk"
      },
      "execution_count": null,
      "outputs": []
    },
    {
      "cell_type": "code",
      "source": [
        "\"\"\" ------ Codercise I.4.2 -> Unitary Superposition ------ \"\"\"\n",
        "\n",
        "dev = qml.device(\"default.qubit\", wires=1)\n",
        "\n",
        "\n",
        "@qml.qnode(dev)\n",
        "def apply_hadamard():\n",
        "    ##################\n",
        "    # YOUR CODE HERE #\n",
        "    ##################\n",
        "    qml.Hadamard(0)\n",
        "\n",
        "    # APPLY THE HADAMARD GATE\n",
        "\n",
        "    # RETURN THE STATE\n",
        "    return qml.state()"
      ],
      "metadata": {
        "id": "yth9QoiJLZXR"
      },
      "execution_count": null,
      "outputs": []
    },
    {
      "cell_type": "code",
      "source": [
        "\"\"\" ------ Codercise I.4.3 -> Combining X and H ------ \"\"\"\n",
        "\n",
        "dev = qml.device(\"default.qubit\", wires=1)\n",
        "\n",
        "\n",
        "@qml.qnode(dev)\n",
        "def apply_hadamard_to_state(state):\n",
        "    \"\"\"Complete the function such that we can apply the Hadamard to\n",
        "    either |0> or |1> depending on the input argument flag.\n",
        "\n",
        "    Args:\n",
        "        state (int): Either 0 or 1. If 1, prepare the qubit in state |1>,\n",
        "            otherwise, leave it in state 0.\n",
        "\n",
        "    Returns:\n",
        "        np.array[complex]: The state of the qubit after the operations.\n",
        "    \"\"\"\n",
        "    ##################\n",
        "    # YOUR CODE HERE #\n",
        "    ##################\n",
        "\n",
        "    # KEEP THE QUBIT IN |0> OR CHANGE IT TO |1> DEPENDING ON state\n",
        "    if state == 1:\n",
        "        qml.PauliX(wires=0)\n",
        "\n",
        "    # APPLY THE HADAMARD\n",
        "    qml.Hadamard(0)\n",
        "\n",
        "    # RETURN THE STATE\n",
        "\n",
        "    return qml.state()\n",
        "\n",
        "\n",
        "print(apply_hadamard_to_state(0))\n",
        "print(apply_hadamard_to_state(1))\n"
      ],
      "metadata": {
        "id": "SCzurvsdL0yl",
        "colab": {
          "base_uri": "https://localhost:8080/"
        },
        "outputId": "6649340a-e3f8-4f0a-ac72-c03a0d2c6633"
      },
      "execution_count": null,
      "outputs": [
        {
          "output_type": "stream",
          "name": "stdout",
          "text": [
            "[0.70710678+0.j 0.70710678+0.j]\n",
            "[ 0.70710678+0.j -0.70710678+0.j]\n"
          ]
        }
      ]
    },
    {
      "cell_type": "markdown",
      "source": [
        "![image.png](data:image/png;base64,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)"
      ],
      "metadata": {
        "id": "qVtKEILiM-Jh"
      }
    },
    {
      "cell_type": "code",
      "source": [
        "\"\"\" ------ Codercise I.4.4 -> A QNode with X and H ------ \"\"\"\n",
        "\n",
        "##################\n",
        "# YOUR CODE HERE #\n",
        "##################\n",
        "\n",
        "# CREATE A DEVICE\n",
        "dev = qml.device(\"default.qubit\", wires=1)\n",
        "\n",
        "\n",
        "@qml.qnode(dev)\n",
        "\n",
        "# CREATE A QNODE CALLED apply_hxh THAT APPLIES THE CIRCUIT ABOVE\n",
        "def apply_hxh(state):\n",
        "    if state==1:\n",
        "        qml.PauliX(wires=0)\n",
        "    qml.Hadamard(0)\n",
        "    qml.PauliX(0)\n",
        "    qml.Hadamard(0)\n",
        "    return qml.state()\n",
        "\n",
        "\n",
        "# Print your results\n",
        "print(apply_hxh(0))\n",
        "print(apply_hxh(1))"
      ],
      "metadata": {
        "id": "3m46QdjnMFSg",
        "colab": {
          "base_uri": "https://localhost:8080/"
        },
        "outputId": "8aaf3180-17c0-45c6-9a67-34b682ce3cf2"
      },
      "execution_count": null,
      "outputs": [
        {
          "output_type": "stream",
          "name": "stdout",
          "text": [
            "[1.+0.j 0.+0.j]\n",
            "[ 0.+0.j -1.+0.j]\n"
          ]
        }
      ]
    },
    {
      "cell_type": "markdown",
      "source": [
        "# 2. It's Just a Phase"
      ],
      "metadata": {
        "id": "0Ov4s8TuNc2d"
      }
    },
    {
      "cell_type": "markdown",
      "source": [
        "I learned after doing this exercise,\n",
        "* How to distinguish between global and relative phases.\n",
        "* The Description of the action of the RZ gate and its matrix representation.\n",
        "* I can identify 3 special cases of RZ."
      ],
      "metadata": {
        "id": "YKbBBbuPNgNA"
      }
    },
    {
      "cell_type": "code",
      "source": [
        "\"\"\" ------ Codercise I.5.1 -> The Pauli Z Gate ------ \"\"\"\n",
        "\n",
        "dev = qml.device(\"default.qubit\", wires=1)\n",
        "\n",
        "\n",
        "@qml.qnode(dev)\n",
        "def apply_z_to_plus():\n",
        "    \"\"\"Write a circuit that applies PauliZ to the |+> state and returns\n",
        "    the state.\n",
        "\n",
        "    Returns:\n",
        "        np.array[complex]: The state of the qubit after the operations.\n",
        "    \"\"\"\n",
        "\n",
        "    ##################\n",
        "    # YOUR CODE HERE #\n",
        "    ##################\n",
        "\n",
        "    # CREATE THE |+> STATE\n",
        "    qml.Hadamard(0)\n",
        "\n",
        "    # APPLY PAULI Z\n",
        "    qml.PauliZ(0)\n",
        "\n",
        "    # RETURN THE STATE\n",
        "    return qml.state()\n",
        "\n",
        "\n",
        "print(apply_z_to_plus())"
      ],
      "metadata": {
        "id": "dAS3ShxzODMW",
        "colab": {
          "base_uri": "https://localhost:8080/"
        },
        "outputId": "e3b94ae5-c815-4885-88ae-a095f420c76f"
      },
      "execution_count": null,
      "outputs": [
        {
          "output_type": "stream",
          "name": "stdout",
          "text": [
            "[ 0.70710678+0.j -0.70710678+0.j]\n"
          ]
        }
      ]
    },
    {
      "cell_type": "code",
      "source": [
        "\"\"\" ------ Codercise I.5.2 -> The Z Rotation ------ \"\"\"\n",
        "\n",
        "dev = qml.device(\"default.qubit\", wires=1)\n",
        "\n",
        "\n",
        "@qml.qnode(dev)\n",
        "def fake_z():\n",
        "    \"\"\"Use RZ to produce the same action as Pauli Z on the |+> state.\n",
        "\n",
        "    Returns:\n",
        "        np.array[complex]: The state of the qubit after the operations.\n",
        "    \"\"\"\n",
        "\n",
        "    ##################\n",
        "    # YOUR CODE HERE #\n",
        "    ##################\n",
        "\n",
        "    # CREATE THE |+> STATE\n",
        "    qml.Hadamard(0)\n",
        "\n",
        "\n",
        "    # APPLY RZ\n",
        "    qml.RZ(np.pi, 0)\n",
        "\n",
        "    # RETURN THE STATE\n",
        "    return qml.state()"
      ],
      "metadata": {
        "id": "tnsZycOHO-up"
      },
      "execution_count": null,
      "outputs": []
    },
    {
      "cell_type": "markdown",
      "source": [
        "![image.png](data:image/png;base64,iVBORw0KGgoAAAANSUhEUgAAAoMAAABgCAYAAABmIXiLAAAAAXNSR0IArs4c6QAAAARnQU1BAACxjwv8YQUAAAAJcEhZcwAAFiUAABYlAUlSJPAAACROSURBVHhe7Z0L/FRj/scfu/rvtrsWZZVclloku0gskbUuK7fKJaToaslltYu0ci2RLvYSknWJSmUrl7VJRCGWVpclRSyJza0I24a15n/eT8/zc5rmcuY3c+o353zer9d5zcyZ+c385sw5z/N5vtdN1nzxZcYIIYQQQohU8g13K4QQQgghUojEoBBCCCFEipEYFEIIIYRIMRKDQgghhBApRmJQCCGEECLFSAwKIYQQQqQYiUEhhBBCiBQjMSiEEEIIkWIkBoUQQgghUozEoBBCCCFEipEYFEIIIYRIMRKDQgghhBApRmJQCCGEECLFSAwKIYQQQqQYiUEhhBBCiBQjMSiEEEIIkWIkBoUQQgghUozEoBBCCCFEitlkzRdfZtx9USb9Lu7r7iWT+vXrm6sGDHSPymPp0jfMzSNHukfJ5PjjTzD7t27tHpXHTTfeYJYtW+YeJZMhQ4e5e+WzYP58d0+knb1atnT3ymPK5Elmzpw57lEyuebawWbTTTd1j2rP8KFDzMABV7lHolSaNm1mFry40D3aMEgMVpD99m1lFi9a5B4ljwsu6ltRMbjH7i3co2TyyIzHKyoGL+l3sXuUPBo0bGiWLnvbPSqf9scebWbNnOkeibRy94SJpl37Du5ReSAGe3Tr6h4lkw8//lRisA4gMVjleDHYtm1btycZrF692syePTs2MZi04zV9+nR7G4cYbNasmfnRj37k9iYDjpfEoIiDOMTgZpttZg444AC3Nxn4MavSYrBVq1Zm0KBBbq8oxpIlS0yfPn0kBqsdLwavueYa07dvclzGhx56aKxi8IUXXjDNmze396udjz76yDRq1Mjej0sMLl682O2tfsaNG2d69uwZmxj89a9/bS666CK3V6QFrpPPP/88NjG4cuVKt7f6eeSRR8yxxx5r78chBv/2t7+5vaIYN99880YTg0ogEUIkmq233lpbyjYhRGlIDAohYmHKlCnm//7v/8ysWbPcHiHEhuTxxx833/rWt8yf//xnt0eI3EgMCiFi4Z///Ke9TZJbW4hq4q233jKZTMYsSnBio6gMEoNCiFj4wQ9+YG+32247eyuE2LBstdVW9nbbbbe1t0LkQ2JQCBELu+yyi73deeed7a0QYsPiE/N0DVaGJLvbJQaFELGw5557mk022cRmdgohNjxce9/5zncSU61hY/LHP/4x0ZnREoNCiIoxf/588/TTT5uvvvrKfO973zMtW7Y09erVM19++aV56qmnbBkhIUR8vPTSS+bJJ580//3vf+1jLPSNGze2sYPPPPOMef755+1+EZ3nnnvO9OvXzx7HpCIxKISoCG+++abZf//9zSGHHGJ23XVXO3gyIVHnDzfVYYcdZlq3bm0++OAD9xdCiEryySef2Gvs8MMPt8XpL7jgAvO///3P/Pa3vzUtWrQwP//5z23BbIobi2isWLHC/OIXv7BieptttnF7k4fEoBCiIjBQnn322XbCOe6448z5559vGjRoYNq1a2dOPfVUc/DBB9si0D6oXVQWrK+9e/euWsvP0qVLzfHHH2/+85//uD2iVL7//e/ba4xrjWvwnHPOMVtuuaU56qijTOfOne21yTmyww47uL8QhcDDceSRR5rPPvvMikFc7kmlLDF42CEHm6dnz3aPKkevHt3N5EmqiyRENUFNwT/84Q+2o8GwYcNsfTPcVfvtt5+59tprzaOPPmq78xBHKCoL3TZOPvlkKwD22Wcft7e62HHHHU3//v2tZfmdd95xe0WpDBw40F5rxLj98Ic/tC5OXMWXX365vTZHjBhhvv3tb7tXi0JceeWV1u0O3/zmNxOdiFOWGFzxwQrbVqzSNNl2WzNsyHXukRCiGsFCxWraD6bVCJMqLreoG229brnlFvPaa6+5d4gfrBcdOnSwn48VIwq0TXz22WetNS4uEHRPPPGE3YhVi2Lx23fffc0VV1xhha2PeRO1Z+HChXahMG/ePLdHRIVr//rrr7duduBWMYMFYLCPwpo1a8y8uXPNU08+aVYFA1EhunbrZgvVLpg/3+0RQlQb//jHP+xtNccnEeeIVfPSSy81W2yxhbV0sn33u981l112mbW2+A3320477WSGDx9u47PatGljli1b5t4pPpiwiMPERV+M3/3ud7ZfLN+Hye68886zFrlRo0ZFHsuLgSUKYUpoAEKQDjRnnnmmbROHC/O9995zr8zNMcccYy0wF154odsjaou/Bl9++WV7K6KxfPlyc9JJJ9nQCw8ejSS3Oow9ZvD5v//d/LJXTzN2zF1m9erV5qWXFppTTu5o+l50oV3R5mLnnXexDf75m7TCwB62OLDyv/jii03btm3X2f+Xv/zF/cVaTjnllHWeP+GEE2wA/xFHHLHOfia0JMO5heXjrLPOsoHUuDBZ1RGThJuExQYXOpMok/qGmLTrAgSYYz0KnwuV2Nq3b1+zgvZ8+umn9vbDDz+0t9XIN77xDfPTn/7Uui732GMPt9fY5Bjir4jN8lvHjh3NDTfcYF599VVz2mmnmTlz5lhLF9aZuOA8HjBggPn9739f0P3OuY617eqrr7Yu/JEjR1oB+9e//tWKwsGDB9vfsdx4vYkTJ5qrrrrKhgsgArHy4Wp78cUXbTIDn7v33nsXFSeEE9xxxx1WTKYF5keOHzG2DRs2tGPWj3/8Y3PGGWfY+nbvvvuuHdewuHN8vvjiC/eX+eF6h1WrVtlbURws0kcffbS1qIbZfPPNEx3iEqsYnBEMMqec1NFcGgw6Z57V2xz0s5+Z3mefY6ZOm25WBJNw506n5F2Nnt61W3AB3JNaV4EPuGdjlTJt2jQ7wP49ENe77757zXPbb7+9+4u19OrVy+4/6KCD7KTEYI/4WbBggdlrr71q/i7JWVGIDywQPwvONwKqH3vsMXthcxyxjHCL1YZgYCrzky2WlqSGhx56yPYrZTEwd+5cO7hRD9CfF37DohC2gmU/T9Ywx9S/BuFDTE0YJjMIr66rGb4ncN4g8grBNUdpHdyxLNAqZXXLhoUeopRzvRA33nijuf/++63V8tBDD3V714IV7vbbb7elf/r27ev2lg4uZxIWeP/s2pKcZ4hWrjcWYCzKsifbMIxP3bp1M3369MlrNEgSlGTCIsrC9MQTTzRvvPGGFXu4dzkOEyZMsEkfxPqRDUwsoL++CuFfk71QE/kh8Y1WmtnHLPFzxJovvszUdttll10zt95+R87nXn71tcyWDRpk+l92ec7n33jzrUwwqGauGzI05/MrPvo4s/kWW2TunjAx5/N1cdtjzz0z9erVywwdOjQY+ytH9+7d7fuyBYLQ7S3OUUcdVfN3Y8eOdXtL55BDDrHv0e+S/jm/d222xUterfnfFi9e7D6pfP79739nfvWrX9n3DVbPmWAx4Z75muAiz9x9992ZBsH5yetKOabFCIRozfea+cRTOb97bbbhv/u9fc/mzZu7T6odHTp0yNSvXz8zcuTInMcG2L9FcO357xEMjO6Z9QkWGZlgxZwJBKLb8zUDBw60fx8IEbdnfTgveU2jxo1zfu/abr844gj7voG4cZ9UHmvWrLHjFe8ZTNpub2GCSdu+nu25555zeysHx573njFjhtuTm/fffz+z5ZZbZgKBlQkEhtu7PoGotO/3zDPPuD2lMWTIkJrve8YZZ7i969KxY8ea10yZMsXtzQ3jAq/705/+5PZEJxDi9m//PHlKzvOjNtu48RPsezJuVBK+54EHHpgJxF4mWKi5vevyySefZM477zz7+bwuWMi5ZwozatQo+zeXX36527M+06dPt69h+/Q/n+X87qVuVw+6xr5fsGh0n1IdTJw4MRMsfmuOR3g77LDD3Kvig3GZz9p11+Y5j2ucW2yWwb4XXmj+/emnpl279m7PujQOVn4/3W8/c9WVV1gXQjZYI0444UQzbuwYtye9UMTXg7s3Ct5N6mHVmQawegVCz7r0cNttuumm7pmvwfWHZaJTp072MZbWNIDFlGxCXHWEIeQ6NoAbCpcV0Fe4adOm9n4usCpSg8u3ngvj3z+KBaOuQxyc91IUs8J5AhHm7plYaisGIsn2f8629GUzZswYEyySrDU8mGjc3vUhBAVwQdaGsAUv15gOvl81UJeyEHTNwAKLRySpYB0dPXq0tayTfITFPRebbbaZCRa5dlzjWovq2fG/d6HfXayFkAtc8lhks70cgDU2ycQiBj8KJp0Zjz5i77coMNH+ZI89rSn2/vvudXvWpWu37uaxGTPMuykuM0CciM/4o17UbrvtZu8XAzcfEwAgdvjbpMNFjCuPWDXiA4m7yUf9+vVt7S3ilwj6TwP33nuv+clPfmK6d+/u9uQGQe0hVq4YBFXnanfly1ckoYyFdxEDSSXFePvtt9cRO8QdVhJExPjx421McLE4JuLQgESRQnjRz+9fm9hB4iQJTyF0BXdnLv71r3+5e9EmV84/wl2S2jWDZBq/aG/SpIkdl/LB78fxYA6IOp4n6RqMExa/xD0zh7CIJfQCOG5cXxgQkl6bMRYx+Pjjj9k4oe9vvnlBq0ATt7qZ9tBUe5sNSSTbb79Dqq2DMwIx7IkyCXnCkxcxXmkAEcjqDlhkFIs1YjIi6zMt8YL33HOPzYwtRvjcKWZ1AixgdBzJxk9sWPmrHZ/IgIWG2NtiUF7GQ8xg2CJWCbDwMoFhlS0ExXK9la7Yee4XT4zdtSlFghWZ+FzirbBy5YLYOOB/iXJu+bGLmOkkwqLB97tlvMoUiC1lLsUqSDxmVHGXpGswTrAIMmeQXIUBhmL5gAeJY8jWqFEjuy+pxCIG/UrnB1sVHgA332ILe/vKyy/nDXDtFfxId44e7R6lj3A2XSmijmBwT1rEIKs375rE7ZLPVeWhKDLZeiSZJB1qvhGUXmxBgRAIN2OPMmEzoeWyDCKcgESKagZB5Y8JLuJcLqQwWARJIAGOC8kblcaPC8USWRYtWlSzKComSP3vBVjjKg1CkYkWyDCmVE8x/PebOXOmvU0anEv+uFOL0R+ffHAt4c2IiheB4d9WrAvXCN4SFjEkj7DImjRpkn2OzHiEIaXxsNwmmVjE4DvLl9vb736v8GrEr1qIxXn77bfs/WxwFfPc34ILJY2ExaA3XUdhdqgzTCl/V80w8PkK8VgJb731VpvNmQ/c6EzWSS4X4MFVSN2sYhAbx8AHuA2jxCbh6srlgvQTULVbJcLxgsXc5sRlUsKFY0hFACxslKSoNFzfiKliv0+4ZFIxa1I4rgyBX0m4Hplo4dxzz7Uln6LAd+Q8ZHGXz2BQzfD7sSAFxPLkyZMLWgc5D0uJXfMLXVkG84N3iHhZPw8Qcw5Ytwkhoq8zC6ok1xiEWMTgypUr7C2WmkKEB5+PPsw9aTfcaitzRNsjU1lzMDteMJcrLhfUNfO13Rho0hAvCLhRiAP0ImTKlCnmtttuy1vahBU29aTSABatKEV8qQ3niWpRHjt2bE5rmZ+IvMulWikWcsHkjeWQMi9co8Sr4sa966678ibplAsxwbmSdrJZuXKlu1faeOxrRNYWYg5ZyLIxubZu3dpOtpS3oSZiKeB+Jpbr9ddfd3uSA6V2wtZ3WsiFvTrZdO3ataTYNb8QScscUAzOy1deecVaYQkpylUA3YtBYmDh9NNPt8cvatJOtRKLGPSTbzF3SnjwwRWTj67du5t7751S8DVJhGKwnmKxQWHS6CL20Ae3S5cu7pGxnRaYfPIJwrRA14kosZG1EYMHHnigu7cuPgat2sWgT6ihviCC2hfa9gXgcb9yrJhoiIl74IEHYrXGY7XDShbFUhG2phUTg+Hnyx1rP/74Yyui2RBxiGKsWjz2C9Wo+Ek4ztZ5GwvmSGJKfYIRltyePXuuswApB3/tFUqmSypY5clEp6oEVQ8Y/7A0k0TH9ck+kp0wIjCGUWOTmGraZ+ISJjkL8GBiyZabuBb4QaWYWX+T0OBTKNj/6KOPsT/IlMlr/fhpobbxgsUsGUkGdwgCkCr+nuuuu85ar9IuCItBhmq4HFGUeMFCePFZ6eSJDQkCzx8TxB8JXX6bPn26vX3rrbesFQErtI85ihM+D0qd4Au5H7MplnxVDARcuFUf2cAsaCn6jkWeOK2o+O9ZrI1dtdK8eXMrQrzFD0HYv3//ivQT9tdg0pMfPFj7KNLNOUOZHrp20aWL/b4bSy5o5oBVlhhBQPgRY+2hiUHSy/NsQrFBd79k9vzx7qZvv37mtNO7uj1rOeaotrYH8V4tW5onZ+eP9aOkTNfT1lpxHpv5hNm3QPmFS/tfYubNfd5Mm/61tawQtMDb0Dz88DTz8apVtk5XOZX8PbiB/GqY1SIuhShQR867h8KZUbUFUUCMEiUN9tizeCZlFIjXm/rXB+39F154IWcCQjnQ7ooMMWKNANfxTTfdZFfhccYIEqPoB97Dg8mvYcPKZCovWfKKmR9MDmQS+ozpSsPiw1ugaeFXyoSdC8Ql8TgEZudj3Lhx9twmmee449euxCvBrJkzA/Hwrh3Ehw4d6vaWDnFchB4AVgY6bOQDSwO/DVYE2tLFBSKUxQ5B79QaLASdRXzPYo418Yz54DrcZ5997H16FiPcKo0fSxiTuOU8KwZicsiQIUWPfxiud86/A9u0Mdttt26XptqybNmbNnad9w673ysBQp1sf+IpvYseayELjHLHRmIMsc7m89QR0uCzv08+pVNFxsdFi14yLwbnEx6JcEJaXJBgxHXO9erBkk+ML+cc/wcuczbCV9hIkmJ+RfSx4T6mY1cY2sDSUhFr4obg5ptvtl13mjZtZha8GF8by5xkV6EuZcvXgaRd+w62inbLvfde77nwNmbc3TXVvf+x8KWcr/HbjMdn2dd98OGqnM9nb8ce267mvTf0VokOJG+++WbN+2233Xa2m0OUrUuXLjV/F6zA3buVR3BB1bxnHFswgbpPqiy8L5X9/ecEE1BmwoQJma+++sq9ovKEO5DEsQUTg/ukyjNgwICazwkEhNsbL74DSVxbuR1Igomg5r0WLlzo9uYmECr2dVtvvbXbEw8PPvig/Zxf/vKXbk9+xo8fX/P/c+4XYt68eTWv5XvHwejRo2s+I2onl8GDB9vXl9IpyHcgiWNjHIkDxiV+I97ffxbjV1zjoyfcgaTSW9wdSFasWJE58cQT1/nMtm3bZgJR6F4RnREjRti/D4Sf7fISfk865yxfvty9Mj42ZgeSWCyD551zthlz1502mPrv8xa4vevDa3gt/Ovd92sC/3NxxeWXmTnPPWsefuTrunuFqHbLIF0DsGwBLiiatkchEIRm0KBB9n6lVvfVaBn04DLH8uSzKnHFcCxJqIiDarYMUnbGx5viVseKGjd13TJIbBHB5liyipX9IHuYpCXAEkPiQxx4Sw6fR5JKIcKWTayIhQqO0+nIZ0tj2Yya8VsKlHvCSuPB5V3MhXn11VfbrZT/qdosgx5CWYhxJtTFgxUYb09crt5qtQwSy0tCje/0Q9wfc1++GOZi4FbGNc81RX9o5gks0r5QOuEuFO4nLj0uEmcZHDJ0mFW322+/w3rPhbcBA6+2r9tpp6Y5n/fb6s++yDTeZpvMbXeMzvl8Xdkq2Zs4mCDte7EFJ6fbW5yDDz645u8eeOABt7c8vGWwGnoTZ5Nrtc0qj36tcRC2DNbF3sT5+Oyzz2zPYv+/v/POO+6ZePGWwbrYmzhYsNQck06dOrm9+QlbE7BYxEUg2O1nBGLd7ckPfaX9/xSIDLc3N8FEV/Pa2lhWZs2aZb0Tc+bMcXvW57333qv5DLapU6e6Z/ITCCP7WvqJR6WaehNnw3nn+6v7bfjw4ZlAKLpXVJZq7E08bNhajcHWpEmTzKRJk9wztWP27Nn2vbYJdEY2wSKk5rPYsN7Fxca0DMaSQHJgm4PsLSVmCgUie0VPj+JCPDxtmq3bdWLH4nXSkkI4kzhqP2JWlT5GDmgNlXZY5ZJNRq0oD9me4X7PYq1VyCfY+PIoaQeLhj8mxbKDiT2isDeQxBQluYMEO0qtDB48uMZy7aHeXL4EPJ9dGwhOe1sIavT5Ej/FLJv+/4dSChsDWdRHHnmkteBhYQ6/V5jsjGZfv7EQvq9z0kt7eHIlwd133301iUNphx7NJNgwtuM9I7aZMb4c8FBAuBKFBw8bCVA+wQfLHa/D8pwkYhGDe7dqZXbccSd7ob/+ev7g8ZdfXuvuat+hg73Nx113jjYnnXRyavor0sHAD9wU8406MYcnLxqap6W2FGb9Qm4bylpQKypcUxAXQ9pKFRUinIGeliLlxQhn8xcLK8CV7IniHmYiIfyChA66cXC9+t8AIUiSSL6Af8phQDFx5/HnfTg7Mhc+W5d2e1G6g4RZsGBBjXjlugr3ZQ6TnRFM3/RieGHpeydXO4SSjC7SVQuXMCLEC2AW+WS8phn0BKERtHpECBLKgvu83KLuVAzIri2YDdcngtCHUdCh5LjjjitaMaWaiEUM8kP16Lk2Zu8+F0OTzarggnh69mzTpMm25qijj3F712dlsPqd/vA024kkLYRrvZUyMft6aJCWkjJcyNlWlVwgqMkM8/A3vtOGqP05l2R8/CQTM/GyhQi3b8vO+s9kMjaOOAyZsQhCJjS8AFiCKC9CfN+oUaNs5ns+qItG7CjWyCiTUe/eve0tZXAKWeK8GM03IdIfmF6tuf63cL9m4q183bxswoKGVnNRsompDEBmaFwxmBsaPGLUYSwGxzBcXzaJRbdLgbhGH5NbLDO+FBCCLGBY8FERIB8skFikUVweiMf111YSiEUMwnnn9zH7BBf76DvuyFnN/sorLrcD2a2331HTli4XdB5h4CtUdiZp1La+YG3/rpphUI3qPuFC9yttrMzFivCmBURJOLwAi1Xa4bzyxyRKuEW4/3J2ItzUqVPXm8gZ0xCBJOlwrZJwhosVocBEh+ArBEHydOV47bXX3J78HHDAAfY3ZRxG0OUC6xueBdpv5UrSwKKHJYTv8pvf/GYdSyi0bNnSTqZ8jwkTJuS9tnwiHNdfIcHroTYcopcOJsWaGFQLjFdRalHiLg6XNEmLZywXJD5RPgYvD1a5KK01o1LIRZwLFm1Y8wGvFI+TQGyzYb169cz4CfeYRo0bmW6ndzHLl6/NyMGNOejqgdb1+6fbbjcHFXG/IAa799jwmcEbk7CFL+rEzISOGduTlnhBJrHly5fbibEYnJO+RyeutkKLkDSBBcyHF1AXMK2tq8hqZ0FFdmWPHj1qjgkuTyynPJfPOhO+TletWuXuGZs1j1XQWxM8xDiFRSM15i655BLz8MMPRwoLadOmjb2NGvuKCMOdRlHs7FhD4rp79eplxRZ1CcnsziZKhil/y/fgM3L1BOc4UMCb6w7BGLYm5oO+0IAYTAp0uMASFcWqi0XUwwIijYwYMcKMHz/e3r/xxhvX8fCUC3MmiyCuxXwW8VxgycdKDhSqRqBWO7GaRhpvs4159LGZpl37Dub8c881v+13selyaifzfrDKnPnEU6bTqZ3dK3PzbPAjsSrs3CX6j1TtMPEgbgAXStSgaVbqPgYuTfGCFDSmXEWUxvpYN7wlBctKMetLWghblNPsImaiwTpHKRosUli62BAvlKzgubA7PQyWMRJBAMFD8VpEJaKPYPd8bmYEAQHxJDXxN1G7teAyQ7zl+3+yoaMCop/3Z3ygkC7/H9ZJXJFYqkgC8SIzG1rfkezCBEghZKyN2VDcmNhBFlqU32By5ZgxWVJihJIpFFWmr/Ixx+QPDQrjLZCVtARtTBijGbNwfRfqiAGcGz4EBpcxfebTBuc3XUSA4umUoaokPlYQqyDGglKg/Jsvk8TiMYqVvi4Tu58Ms26Pnr3M5PvuN9cNGWrumTTZjLjxJtMyQrYaVsG2Rx5lGkboqZoU5CKODrFYDKpYBwm6L5TdhZXHx0QxkeaazNJKOHnEB0inEerwhdvN5doKTUb0LaYeZ79+/aywws3Me4azQsNw3iIWsXph+SjFDUibMWKmcNtGyciF5s2bW0sbbjEmPu4jXJlsGT/oeFQI4hmx/FHbLR+4y3EVc12SwY81i320hGSRiyAkKS4qWBA5PsViNqsFXPXEl+L94VwpBItXbxnlHPKJQ2mBY9W5c2druWaRWumOOLxvqS7iMFjQH3zwQRsjjGcKVzZzUrVSZ4OmWKlOmTI5VYkjQICqhwDrqIQHlrS4iHHBebcd1gqCi/OVMsLCwIRLeQAKEUdp8p8GaMGUHdQvag8WnMsuu8y2UOPWl6PIBrGE1RH3MRNeGALTfUxSIXzrMnqvRoVYPlza4b7B9FyuNHwOliy+G98R62OplnjGNK5vvmdSIAMc7w+/GwWNcRnngsUrVissY771YFJiJqNCAwVCGnDhMnZX+vsjBIkNxopd20LSLMpYsBBGweKPotHVSp0Vg/cGQhD3zBExDFR1CVb2uFLYWHFTT8qDwPHPMUGEYYXunyNGJ2zdoVK/f86vLJMIcUleDDK4+vpT7PPxXryGIF96miIAGWCZhNMICw1/XrBRbgf3pj9WQA2t8Gso3SAqC4IAdyuJGOG4VdyCuG75DfhtioHwxJJLg/0kcv3111trZbk15OoSCEHvTkQ8kEDkS2NhVWIxSwkgFhJYUxGBZJfH1X2krsIxIGwDBgwYYEVXpQm7iMuBziU+6YrfzYd5VRt1VgzSqo7EkaRnfNLqxtfI23nnnW0QuV+x+zZSFNVkC0MspS9PQBxQeKWPSZ1BhYD4cMmLpIGbDQGNEORYEHzPKhJxTBkKLBFYuhBBxHwhqONsJVTXYZWNO9BvnCO4CP15w7kH4dfgRhSVA48HYQqch8QEY/Uig5dCzUz4PDd8+PBIJVcA6xKiwpfBSQpYzFgoY2lJ0hyAGMTiSewg4xfxqXPnzrWZ2rgdCRVAIOJ2JCwBIRg1jjRJEB/I4gjrMvcrzcKFC212MuES5YpBIKOYxC+8Vb6NbNWRqy1J1C1fO7pytxdeWmRbsrzy2j9zPl9Xt0q2o6tLVHM7ug1Ntbaj21iMrcPt6OIgmDRsKy3PqlWrMp07d840bNgwEwjBTCAA3DPRCYR8Zrfddst8/vnnbk91EyxSMgcccEDmggsucHtKp5rb0W1ogsWy/V5sdaEd3fPPP1/z/1SqpWo2/fr1s+9/5plnuj3lE27nOGbMGLe3NKq6HV2UkgOlctedd5o2Bx1kdtjhh26PEEJUP1hfw2VmKPeCuwqrLcHoWAhLhWxdrIskbiSBQCzbpJjsQt0iHXj3rbeUx0GlXMRhCP3wrWO5zqOUO6tLlCUGm++2mwkUrHtUOd5Zvtyc1bvypmEhhEgauFEJsCc+uFibs7oOrjtK7BDSkeYiy2mF0BWf4Yt7OI4QAeLtydSmCUGl48fpLMT/TPF4LzirhbKONGVi6DJSaW4ffafpcNzago5CCCEKg4WRuEHiY6s1zpMJlDjBhx56aL0uLiIdcO5StJ2SdHG1evMirZQi01Eh1tfXxCQBKlNFpWaSE5krhBAppl69embixIk2u7EaIduf5Jlwaz+RLnyRcerANmjQwN6vJCRUkmgIlXQRh6EsFOFzS5YssQubakFiUAghhBAbHS8G46r64F3Qp556aizlagDroG+Zx+KmWpAYFEIIIcRGhz7BELcYjMNFHIakLqB3OP2PqwGJQSGEEEJsdKgrSaxdXO1Cb7nlFusepiNOnLRo0cK2Y6SgeLX0lJYYFEIIIcRGh+LbdJKKy4V7+OGHb7CMe9rp4Y6ulqx4iUEhhBBCiBQjMSiEEEIIkWIkBoUQQgghUozEoBAi0VDMWFu6NiFEaWxCg2J3X5TJfvu2MosXLTJt27Z1e5LB6tWrzezZs80FF/U1Vw0Y6PaWx9Klb5g9dm9h7yfteNEFAh6Z8bjZv3Vre79cbrrxBnNJv4tNs2bNbB2rJMHxatCwoVm67G23p3zaH3u0mTVzpnsk0srdEyaadu3X1nwrlymTJ5ke3bra7ihxZbtuLPyY9eHHn9ruH+UyfOgQM3DAVaZVq1Zm0KBBbq8oBoWq+/TpY5o2bWYWvLjQ7d0wSAxWEC8Gk0pcYjCpxCEGk4rEoIiDOMRgkqm0GBS1Q2Kwyul3cV93L5nUr1+/omLw5pEj3aNkcvzxJ1RUDC5btsw9SiZDhg5z98pnwfz57p5IO3u1bOnulQdicM6cOe5RMrnm2sESg3UAiUEhhBBCCLFBUQKJEEIIIUSKkRgUQgghhEgxEoNCCCGEEClGYlAIIYQQIsVIDAohhBBCpBiJQSGEEEKIFCMxKIQQQgiRYiQGhRBCCCFSjMSgEEIIIUSKkRgUQgghhEgxEoNCCCGEEClGYlAIIYQQIsVIDAohhBBCpBiJQSGEEEKIFCMxKIQQQgiRYiQGhRBCCCFSjMSgEEIIIUSKkRgUQgghhEgxEoNCCCGEEKnFmP8HDbWHQzwoUNAAAAAASUVORK5CYII=)"
      ],
      "metadata": {
        "id": "vY8wioxJPM31"
      }
    },
    {
      "cell_type": "code",
      "source": [
        "\"\"\" ------ Codercise I.5.3 -> The S and T Gates ------ \"\"\"\n",
        "\n",
        "dev = qml.device(\"default.qubit\", wires=1)\n",
        "\n",
        "\n",
        "@qml.qnode(dev)\n",
        "def many_rotations():\n",
        "    \"\"\"Implement the circuit depicted above and return the quantum state.\n",
        "\n",
        "    Returns:\n",
        "        np.array[complex]: The state of the qubit after the operations.\n",
        "    \"\"\"\n",
        "\n",
        "    ##################\n",
        "    # YOUR CODE HERE #\n",
        "    ##################\n",
        "\n",
        "    # IMPLEMENT THE CIRCUIT\n",
        "    qml.Hadamard(0)\n",
        "    qml.S(0)\n",
        "    qml.adjoint(qml.T)(0)\n",
        "    qml.RZ(0.3, 0)\n",
        "    qml.adjoint(qml.S)(0)\n",
        "\n",
        "\n",
        "\n",
        "    # RETURN THE STATE\n",
        "\n",
        "    return qml.state()"
      ],
      "metadata": {
        "id": "VP1EpiffPICF"
      },
      "execution_count": null,
      "outputs": []
    },
    {
      "cell_type": "markdown",
      "source": [
        "# 3. From a Different Angle"
      ],
      "metadata": {
        "id": "lJgs-j7vP5z9"
      }
    },
    {
      "cell_type": "markdown",
      "source": [
        "I learned from this part is,\n",
        "* The description the action of the RX gate and its matrix representation.\n",
        "* Can describe the action of the RY gate and its matrix representation.\n",
        "* Representation qubit states in 3-dimensional space using the Bloch sphere."
      ],
      "metadata": {
        "id": "aAf9JkWXQDUg"
      }
    },
    {
      "cell_type": "code",
      "source": [
        "\"\"\" ------ Codercise I.6.1 -> Applying RX ------ \"\"\"\n",
        "\n",
        "dev = qml.device(\"default.qubit\", wires=1)\n",
        "\n",
        "\n",
        "@qml.qnode(dev)\n",
        "def apply_rx_pi(state):\n",
        "    \"\"\"Apply an RX gate with an angle of \\pi to a particular basis state.\n",
        "\n",
        "    Args:\n",
        "        state (int): Either 0 or 1. If 1, initialize the qubit to state |1>\n",
        "            before applying other operations.\n",
        "\n",
        "    Returns:\n",
        "        np.array[complex]: The state of the qubit after the operations.\n",
        "    \"\"\"\n",
        "    if state == 1:\n",
        "        qml.PauliX(wires=0)\n",
        "\n",
        "    ##################\n",
        "    # YOUR CODE HERE #\n",
        "    ##################\n",
        "\n",
        "    # APPLY RX(pi) AND RETURN THE STATE\n",
        "    qml.RX(np.pi, 0)\n",
        "\n",
        "    return qml.state()\n",
        "\n",
        "\n",
        "print(apply_rx_pi(0))\n",
        "print(apply_rx_pi(1))"
      ],
      "metadata": {
        "id": "Y-UDf1KiQWbM",
        "colab": {
          "base_uri": "https://localhost:8080/"
        },
        "outputId": "2a49d73c-8596-4ae8-8343-0b7dbf6a9dd1"
      },
      "execution_count": null,
      "outputs": [
        {
          "output_type": "stream",
          "name": "stdout",
          "text": [
            "[6.123234e-17+0.j 0.000000e+00-1.j]\n",
            "[0.000000e+00-1.j 6.123234e-17+0.j]\n"
          ]
        }
      ]
    },
    {
      "cell_type": "code",
      "source": [
        "\"\"\" ------ Codercise I.6.2 -> Plotting RX ------ \"\"\"\n",
        "\n",
        "dev = qml.device(\"default.qubit\", wires=1)\n",
        "\n",
        "\n",
        "@qml.qnode(dev)\n",
        "def apply_rx(theta, state):\n",
        "    \"\"\"Apply an RX gate with an angle of theta to a particular basis state.\n",
        "\n",
        "    Args:\n",
        "        theta (float): A rotation angle.\n",
        "        state (int): Either 0 or 1. If 1, initialize the qubit to state |1>\n",
        "            before applying other operations.\n",
        "\n",
        "    Returns:\n",
        "        np.array[complex]: The state of the qubit after the operations.\n",
        "    \"\"\"\n",
        "    if state == 1:\n",
        "        qml.PauliX(wires=0)\n",
        "\n",
        "    ##################\n",
        "    # YOUR CODE HERE #\n",
        "    ##################\n",
        "\n",
        "    # APPLY RX(theta) AND RETURN THE STATE\n",
        "    qml.RX(theta, 0)\n",
        "\n",
        "    return qml.state()\n",
        "\n",
        "\n",
        "# Code for plotting\n",
        "angles = np.linspace(0, 4 * np.pi, 200)\n",
        "output_states = np.array([apply_rx(t, 0) for t in angles])\n",
        "\n",
        "\n",
        "def plotter(angles, output_states):\n",
        "    plt.plot(angles, np.real(output_states[:, 0]), label='Real part of |0>')\n",
        "    plt.plot(angles, np.imag(output_states[:, 0]), label='Imag part of |0>')\n",
        "    plt.plot(angles, np.real(output_states[:, 1]), label='Real part of |1>')\n",
        "    plt.plot(angles, np.imag(output_states[:, 1]), label='Imag part of |1>')\n",
        "    plt.grid()\n",
        "    plt.xlabel('Angle (theta)')\n",
        "    plt.ylabel('Amplitude')\n",
        "    plt.legend()\n",
        "    plt.show()\n",
        "\n",
        "plot = plotter(angles, output_states)\n"
      ],
      "metadata": {
        "id": "5WKcV2gVQ5Gx",
        "colab": {
          "base_uri": "https://localhost:8080/",
          "height": 449
        },
        "outputId": "7c63bc88-e1f5-4ff1-9752-d7b793b50409"
      },
      "execution_count": 11,
      "outputs": [
        {
          "output_type": "display_data",
          "data": {
            "text/plain": [
              "<Figure size 640x480 with 1 Axes>"
            ],
            "image/png": "[encoded data removed]"
          },
          "metadata": {}
        }
      ]
    },
    {
      "cell_type": "code",
      "source": [
        "\"\"\" ------ Codercise I.6.2 -> Plotting RY ------ \"\"\"\n",
        "\n",
        "dev = qml.device(\"default.qubit\", wires=1)\n",
        "\n",
        "\n",
        "@qml.qnode(dev)\n",
        "def apply_ry(theta, state):\n",
        "    \"\"\"Apply an RY gate with an angle of theta to a particular basis state.\n",
        "\n",
        "    Args:\n",
        "        theta (float): A rotation angle.\n",
        "        state (int): Either 0 or 1. If 1, initialize the qubit to state |1>\n",
        "            before applying other operations.\n",
        "\n",
        "    Returns:\n",
        "        np.array[complex]: The state of the qubit after the operations.\n",
        "    \"\"\"\n",
        "    if state == 1:\n",
        "        qml.PauliX(wires=0)\n",
        "\n",
        "    ##################\n",
        "    # YOUR CODE HERE #\n",
        "    ##################\n",
        "\n",
        "    # APPLY RY(theta) AND RETURN THE STATE\n",
        "    qml.RY(theta, 0)\n",
        "\n",
        "    return qml.state()\n",
        "\n",
        "\n",
        "# Code for plotting\n",
        "angles = np.linspace(0, 4 * np.pi, 200)\n",
        "output_states = np.array([apply_ry(t, 0) for t in angles])\n",
        "\n",
        "def plotter(angles, output_states):\n",
        "    plt.plot(angles, np.real(output_states[:, 0]), label='Real part of |0>')\n",
        "    plt.plot(angles, np.imag(output_states[:, 0]), label='Imag part of |0>')\n",
        "    plt.plot(angles, np.real(output_states[:, 1]), label='Real part of |1>')\n",
        "    plt.plot(angles, np.imag(output_states[:, 1]), label='Imag part of |1>')\n",
        "    plt.grid()\n",
        "    plt.xlabel('Angle (theta)')\n",
        "    plt.ylabel('Amplitude')\n",
        "    plt.legend()\n",
        "    plt.show()\n",
        "\n",
        "plot = plotter(angles, output_states)"
      ],
      "metadata": {
        "id": "LAfw5MIYRKJS",
        "colab": {
          "base_uri": "https://localhost:8080/",
          "height": 449
        },
        "outputId": "64ac0f3d-9e04-4883-84e3-e1f078e5a094"
      },
      "execution_count": 12,
      "outputs": [
        {
          "output_type": "display_data",
          "data": {
            "text/plain": [
              "<Figure size 640x480 with 1 Axes>"
            ],
            "image/png": "[encoded data removed]"
          },
          "metadata": {}
        }
      ]
    },
    {
      "cell_type": "markdown",
      "source": [
        "# 4. Universal Gate Sets"
      ],
      "metadata": {
        "id": "RWG1JSX6RiMO"
      }
    },
    {
      "cell_type": "markdown",
      "source": [
        "* I can define what it means for a gate set to be universal for quantum computing.\n",
        "* I can state two universal gate sets for single-qubit quantum computation."
      ],
      "metadata": {
        "id": "V9eLB21zRl0T"
      }
    },
    {
      "cell_type": "code",
      "source": [
        "\"\"\" ------ Codercise I.7.1 -> Universality of Rotations ------ \"\"\"\n",
        "\n",
        "dev = qml.device(\"default.qubit\", wires=1)\n",
        "\n",
        "##################\n",
        "# YOUR CODE HERE #\n",
        "##################\n",
        "\n",
        "# ADJUST THE VALUES OF PHI, THETA, AND OMEGA\n",
        "phi, theta, omega = np.pi/2, np.pi/2, np.pi/2\n",
        "\n",
        "\n",
        "@qml.qnode(dev)\n",
        "def hadamard_with_rz_rx():\n",
        "    qml.RZ(phi, wires=0)\n",
        "    qml.RX(theta, wires=0)\n",
        "    qml.RZ(omega, wires=0)\n",
        "    return qml.state()"
      ],
      "metadata": {
        "id": "S1cvGDRuR0p9"
      },
      "execution_count": null,
      "outputs": []
    },
    {
      "cell_type": "markdown",
      "source": [
        "![image.png](data:image/png;base64,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)"
      ],
      "metadata": {
        "id": "ChiK62D0Svwt"
      }
    },
    {
      "cell_type": "code",
      "source": [
        "\"\"\" ------ Codercise I.7.2 -> Synthesizing a Circuit ------ \"\"\"\n",
        "\n",
        "dev = qml.device(\"default.qubit\", wires=1)\n",
        "\n",
        "\n",
        "@qml.qnode(dev)\n",
        "def convert_to_rz_rx():\n",
        "    ##################\n",
        "    # YOUR CODE HERE #\n",
        "    ##################\n",
        "\n",
        "    # IMPLEMENT THE CIRCUIT IN THE PICTURE USING ONLY RZ AND RX\n",
        "    qml.RZ(np.pi/2, 0)\n",
        "    qml.RX(np.pi/2, 0)\n",
        "    qml.RZ(7*np.pi/4, 0)\n",
        "    qml.RX(np.pi, 0)\n",
        "\n",
        "    return qml.state()"
      ],
      "metadata": {
        "id": "_2uWkR8nSroL"
      },
      "execution_count": null,
      "outputs": []
    },
    {
      "cell_type": "code",
      "source": [
        "\"\"\" ------ Codercise I.7.3 -> Universality of H and T ------ \"\"\"\n",
        "\n",
        "dev = qml.device(\"default.qubit\", wires=1)\n",
        "\n",
        "\n",
        "@qml.qnode(dev)\n",
        "def unitary_with_h_and_t():\n",
        "    ##################\n",
        "    # YOUR CODE HERE #\n",
        "    ##################\n",
        "\n",
        "    # APPLY ONLY H AND T TO PRODUCE A CIRCUIT THAT EFFECTS THE GIVEN MATRIX\n",
        "    qml.Hadamard(wires=0)\n",
        "    qml.T(wires=0)\n",
        "    qml.Hadamard(wires=0)\n",
        "    qml.T(wires=0)\n",
        "    qml.T(wires=0)\n",
        "    qml.Hadamard(wires=0)\n",
        "\n",
        "    return qml.state()"
      ],
      "metadata": {
        "id": "gnmk8TQRUHSc"
      },
      "execution_count": null,
      "outputs": []
    },
    {
      "cell_type": "markdown",
      "source": [
        "# 5. Prepare Yourself"
      ],
      "metadata": {
        "id": "LSQL-md-Ueki"
      }
    },
    {
      "cell_type": "markdown",
      "source": [
        "* I can use this as a reference for all I have learned.\n",
        "* I can combine gates to prepare specific quantum states."
      ],
      "metadata": {
        "id": "t-rmJd5eUt-8"
      }
    },
    {
      "cell_type": "code",
      "source": [
        "\"\"\" ------ Codercise I.8.1 -> State Preparation ------ \"\"\"\n",
        "\n",
        "dev = qml.device(\"default.qubit\", wires=1)\n",
        "\n",
        "\n",
        "@qml.qnode(dev)\n",
        "def prepare_state():\n",
        "    ##################\n",
        "    # YOUR CODE HERE #\n",
        "    ##################\n",
        "\n",
        "    # APPLY OPERATIONS TO PREPARE THE TARGET STATE\n",
        "    qml.Hadamard(wires=0)\n",
        "    qml.RZ(5 * np.pi / 4, wires=0)\n",
        "\n",
        "    return qml.state()"
      ],
      "metadata": {
        "id": "IrUAa7t-U4S3"
      },
      "execution_count": null,
      "outputs": []
    },
    {
      "cell_type": "code",
      "source": [
        "\"\"\" ------ Codercise I.8.2 -> State Preparation Revisited ------ \"\"\"\n",
        "\n",
        "dev = qml.device(\"default.qubit\", wires=1)\n",
        "\n",
        "\n",
        "@qml.qnode(dev)\n",
        "def prepare_state():\n",
        "    ##################\n",
        "    # YOUR CODE HERE #\n",
        "    ##################\n",
        "\n",
        "    # APPLY OPERATIONS TO PREPARE THE TARGET STATE\n",
        "    qml.RX(np.pi/3 , wires=0)\n",
        "\n",
        "\n",
        "    return qml.state()"
      ],
      "metadata": {
        "id": "wQkJMDf4WvVn"
      },
      "execution_count": null,
      "outputs": []
    },
    {
      "cell_type": "code",
      "source": [
        "\"\"\" ------ Codercise I.8.3 -> State Preparation with Mottonen's Method ------ \"\"\"\n",
        "\n",
        "v = np.array([0.52889389 - 0.14956775j, 0.67262317 + 0.49545818j])\n",
        "\n",
        "##################\n",
        "# YOUR CODE HERE #\n",
        "##################\n",
        "\n",
        "# CREATE A DEVICE\n",
        "dev=qml.device(\"default.qubit\",wires=1)\n",
        "@qml.qnode(dev)\n",
        "\n",
        "# CONSTRUCT A QNODE THAT USES qml.MottonenStatePreparation\n",
        "# TO PREPARE A QUBIT IN STATE V, AND RETURN THE STATE\n",
        "\n",
        "\n",
        "def prepare_state(state=v):\n",
        "    qml.MottonenStatePreparation(v,wires=range(1))\n",
        "\n",
        "    return qml.state()\n",
        "\n",
        "\n",
        "# This will draw the quantum circuit and allow you to inspect the output gates\n",
        "print(prepare_state(v))\n",
        "print()\n",
        "print(qml.draw(prepare_state, expansion_strategy=\"device\")(v))"
      ],
      "metadata": {
        "id": "BXaero93bA__",
        "colab": {
          "base_uri": "https://localhost:8080/"
        },
        "outputId": "1a84de7a-117f-4c99-aa6f-bb0022f460c2"
      },
      "execution_count": null,
      "outputs": [
        {
          "output_type": "stream",
          "name": "stdout",
          "text": [
            "[0.52889389-0.14956775j 0.67262317+0.49545818j]\n",
            "\n",
            "0: ──RY(1.98)──RZ(0.91)──GlobalPhase(-0.18)─┤  State\n"
          ]
        }
      ]
    },
    {
      "cell_type": "markdown",
      "source": [
        "# 6. Measurements"
      ],
      "metadata": {
        "id": "YXjo34s4biUQ"
      }
    },
    {
      "cell_type": "markdown",
      "source": [
        "I have learned throughout the practice are,\n",
        "* How to define a projective measurement.\n",
        "* Performing a projective measurement in the computational basis.\n",
        "* How to perform measurements in an alternative measurement basis."
      ],
      "metadata": {
        "id": "dbVXwqpwb0ki"
      }
    },
    {
      "cell_type": "code",
      "source": [
        "\"\"\" ------ Codercise I.9.1 -> Measuring a SuperPosition ------ \"\"\"\n",
        "\n",
        "dev = qml.device(\"default.qubit\", wires=1)\n",
        "\n",
        "\n",
        "@qml.qnode(dev)\n",
        "def apply_h_and_measure(state):\n",
        "    \"\"\"Complete the function such that we apply the Hadamard gate\n",
        "    and measure in the computational basis.\n",
        "\n",
        "    Args:\n",
        "        state (int): Either 0 or 1. If 1, prepare the qubit in state |1>,\n",
        "            otherwise leave it in state 0.\n",
        "\n",
        "    Returns:\n",
        "        np.array[float]: The measurement outcome probabilities.\n",
        "    \"\"\"\n",
        "    if state == 1:\n",
        "        qml.PauliX(wires=0)\n",
        "\n",
        "    ##################\n",
        "    # YOUR CODE HERE #\n",
        "    ##################\n",
        "\n",
        "    # APPLY HADAMARD AND MEASURE\n",
        "    qml.Hadamard(0)\n",
        "\n",
        "\n",
        "    return qml.probs(wires=0)\n",
        "\n",
        "\n",
        "print(apply_h_and_measure(0))\n",
        "print(apply_h_and_measure(1))"
      ],
      "metadata": {
        "id": "DeSIvaHdbeMV",
        "colab": {
          "base_uri": "https://localhost:8080/"
        },
        "outputId": "bafdecf1-482d-45c5-a41b-aca37c5d3c01"
      },
      "execution_count": null,
      "outputs": [
        {
          "output_type": "stream",
          "name": "stdout",
          "text": [
            "[0.5 0.5]\n",
            "[0.5 0.5]\n"
          ]
        }
      ]
    },
    {
      "cell_type": "code",
      "source": [
        "\"\"\" ------ Codercise I.9.2 -> Y Basis Rotation ------ \"\"\"\n",
        "\n",
        "# WRITE A QUANTUM FUNCTION THAT PREPARES (1/2)|0> + i(sqrt(3)/2)|1>\n",
        "def prepare_psi():\n",
        "    qml.RX(-2*np.pi/3,wires=0)\n",
        "    pass\n",
        "\n",
        "\n",
        "# WRITE A QUANTUM FUNCTION THAT SENDS BOTH |0> TO |y_+> and |1> TO |y_->\n",
        "def y_basis_rotation():\n",
        "    qml.Hadamard(wires=0)\n",
        "    qml.S(wires=0)\n",
        "    pass"
      ],
      "metadata": {
        "id": "zbOaxHsOcnZ3"
      },
      "execution_count": null,
      "outputs": []
    },
    {
      "cell_type": "code",
      "source": [
        "\"\"\" ------ Codercise I.9.3 -> Measurement in the Y Basis ------ \"\"\"\n",
        "\n",
        "dev = qml.device(\"default.qubit\", wires=1)\n",
        "\n",
        "\n",
        "@qml.qnode(dev)\n",
        "def measure_in_y_basis():\n",
        "    ##################\n",
        "    # YOUR CODE HERE #\n",
        "    ##################\n",
        "\n",
        "    # PREPARE THE STATE\n",
        "    prepare_psi()\n",
        "\n",
        "    # PERFORM THE ROTATION BACK TO COMPUTATIONAL BASIS\n",
        "    qml.adjoint(y_basis_rotation)()\n",
        "\n",
        "    # RETURN THE MEASUREMENT OUTCOME PROBABILITIES\n",
        "\n",
        "    return qml.probs(0)\n",
        "\n",
        "\n",
        "print(measure_in_y_basis())"
      ],
      "metadata": {
        "id": "honDqOvJdY5d",
        "colab": {
          "base_uri": "https://localhost:8080/"
        },
        "outputId": "3cb4eb3f-4ab8-40ce-cf0e-aebecd8f4a29"
      },
      "execution_count": null,
      "outputs": [
        {
          "output_type": "stream",
          "name": "stdout",
          "text": [
            "[0.9330127 0.0669873]\n"
          ]
        }
      ]
    },
    {
      "cell_type": "markdown",
      "source": [
        "# 7. What did you expect?"
      ],
      "metadata": {
        "id": "WeJ9Ks-weCxv"
      }
    },
    {
      "cell_type": "markdown",
      "source": [
        "* Defining an observable, and compute its possible measurement outcomes.\n",
        "* Can compute the expectation value of an observable."
      ],
      "metadata": {
        "id": "n7YMHghveMBb"
      }
    },
    {
      "cell_type": "markdown",
      "source": [
        "![image.png](data:image/png;base64,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)"
      ],
      "metadata": {
        "id": "0iG8wY82gwgw"
      }
    },
    {
      "cell_type": "code",
      "source": [
        "\"\"\" ------ Codercise I.10.1 -> Measurement of the Pauli Y observable ------ \"\"\"\n",
        "\n",
        "dev = qml.device(\"default.qubit\", wires=1)\n",
        "\n",
        "\n",
        "@qml.qnode(dev)\n",
        "def circuit():\n",
        "    ##################\n",
        "    # YOUR CODE HERE #\n",
        "    ##################\n",
        "\n",
        "    # IMPLEMENT THE CIRCUIT IN THE PICTURE AND MEASURE PAULI Y\n",
        "    qml.RX(np.pi/4, 0)\n",
        "    qml.Hadamard(0)\n",
        "    qml.PauliZ(0)\n",
        "\n",
        "    return qml.expval(qml.PauliY(0))\n",
        "\n",
        "\n",
        "print(circuit())\n"
      ],
      "metadata": {
        "id": "a2z1AN5IgGrp",
        "colab": {
          "base_uri": "https://localhost:8080/"
        },
        "outputId": "0e84dc19-4a6f-46c5-ab1c-0cd0c4ef389f"
      },
      "execution_count": null,
      "outputs": [
        {
          "output_type": "stream",
          "name": "stdout",
          "text": [
            "-0.7071067811865471\n"
          ]
        }
      ]
    },
    {
      "cell_type": "code",
      "source": [
        "\"\"\" ------ Codercise I.10.2 -> Setting of the Number of Experiment Shots ------ \"\"\"\n",
        "\n",
        "# An array to store your results\n",
        "shot_results = []\n",
        "\n",
        "# Different numbers of shots\n",
        "shot_values = [100, 1000, 10000, 100000, 1000000]\n",
        "\n",
        "for shots in shot_values:\n",
        "    ##################\n",
        "    # YOUR CODE HERE #\n",
        "    ##################\n",
        "\n",
        "    # CREATE A DEVICE, CREATE A QNODE, AND RUN IT\n",
        "    dev = qml.device(\"default.qubit\", wires=1)\n",
        "\n",
        "\n",
        "    @qml.qnode(dev)\n",
        "    def circuit():\n",
        "        qml.RX(np.pi/4,wires=0)\n",
        "        qml.Hadamard(wires=0)\n",
        "        qml.PauliZ(wires=0)\n",
        "        return qml.expval(qml.PauliY(0))\n",
        "\n",
        "\n",
        "    # STORE RESULT IN SHOT_RESULTS ARRAY\n",
        "    shot_results.append(circuit())\n",
        "\n",
        "print(qml.math.unwrap(shot_results))"
      ],
      "metadata": {
        "id": "on3DNqqUgrin",
        "colab": {
          "base_uri": "https://localhost:8080/"
        },
        "outputId": "9e229b79-0363-477e-f4d9-3edcb5cd3c38"
      },
      "execution_count": null,
      "outputs": [
        {
          "output_type": "stream",
          "name": "stdout",
          "text": [
            "[-0.7071067811865471, -0.7071067811865471, -0.7071067811865471, -0.7071067811865471, -0.7071067811865471]\n"
          ]
        }
      ]
    },
    {
      "cell_type": "code",
      "source": [
        "\"\"\" ------ Codercise I.10.3 -> Evaluating the Samples ------ \"\"\"\n",
        "\n",
        "dev = qml.device(\"default.qubit\", wires=1, shots=100000)\n",
        "\n",
        "\n",
        "@qml.qnode(dev)\n",
        "def circuit():\n",
        "    qml.RX(np.pi / 4, wires=0)\n",
        "    qml.Hadamard(wires=0)\n",
        "    qml.PauliZ(wires=0)\n",
        "\n",
        "    ##################\n",
        "    # YOUR CODE HERE #\n",
        "    ##################\n",
        "\n",
        "    # RETURN THE MEASUREMENT SAMPLES OF THE CORRECT OBSERVABLE\n",
        "\n",
        "    return qml.sample(qml.PauliY(wires=0))\n",
        "\n",
        "\n",
        "def compute_expval_from_samples(samples):\n",
        "    \"\"\"Compute the expectation value of an observable given a set of\n",
        "    sample outputs. You can assume that there are two possible outcomes,\n",
        "    1 and -1.\n",
        "\n",
        "    Args:\n",
        "        samples (np.array[float]): 100000 samples representing the results of\n",
        "            running the above circuit.\n",
        "\n",
        "    Returns:\n",
        "        float: the expectation value computed based on samples.\n",
        "    \"\"\"\n",
        "    number_of_ones = np.count_nonzero(samples == 1)\n",
        "    number_of_minus_ones = np.count_nonzero(samples == -1)\n",
        "\n",
        "    estimated_expval = (number_of_ones - number_of_minus_ones) / len(samples)\n",
        "\n",
        "    ##################\n",
        "    # YOUR CODE HERE #\n",
        "    ##################\n",
        "\n",
        "    # USE THE SAMPLES TO ESTIMATE THE EXPECTATION VALUE\n",
        "\n",
        "    return estimated_expval\n",
        "\n",
        "\n",
        "samples = circuit()\n",
        "print(compute_expval_from_samples(samples))\n"
      ],
      "metadata": {
        "id": "VCcSfVSShsmg",
        "colab": {
          "base_uri": "https://localhost:8080/"
        },
        "outputId": "67eb751e-73f6-4de6-e982-c27bd8971490"
      },
      "execution_count": null,
      "outputs": [
        {
          "output_type": "stream",
          "name": "stdout",
          "text": [
            "-0.70616\n"
          ]
        }
      ]
    },
    {
      "cell_type": "code",
      "source": [
        "\"\"\" ------ Codercise I.10.4 -> The Variance of Smaple Measurements ------ \"\"\"\n",
        "\n",
        "def variance_experiment(n_shots):\n",
        "    \"\"\"Run an experiment to determine the variance in an expectation\n",
        "    value computed with a given number of shots.\n",
        "\n",
        "    Args:\n",
        "        n_shots (int): The number of shots\n",
        "\n",
        "    Returns:\n",
        "        float: The variance in expectation value we obtain running the\n",
        "        circuit 100 times with n_shots shots each.\n",
        "    \"\"\"\n",
        "\n",
        "    # To obtain a variance, we run the circuit multiple times at each shot value.\n",
        "    n_trials = 100\n",
        "\n",
        "    ##################\n",
        "    # YOUR CODE HERE #\n",
        "    ##################\n",
        "\n",
        "    # CREATE A DEVICE WITH GIVEN NUMBER OF SHOTS\n",
        "    dev = qml.device(\"default.qubit\", wires=1, shots=n_shots)\n",
        "\n",
        "    # DECORATE THE CIRCUIT BELOW TO CREATE A QNODE\n",
        "    @qml.qnode(dev)\n",
        "\n",
        "    def circuit():\n",
        "        qml.Hadamard(wires=0)\n",
        "        return qml.expval(qml.PauliZ(wires=0))\n",
        "\n",
        "    # RUN THE QNODE N_TRIALS TIMES AND RETURN THE VARIANCE OF THE RESULTS\n",
        "    results = [circuit() for _ in range(n_trials)]\n",
        "\n",
        "\n",
        "    return np.var(results)\n",
        "\n",
        "\n",
        "def variance_scaling(n_shots):\n",
        "    \"\"\"Once you have determined how the variance in expectation value scales\n",
        "    with the number of shots, complete this function to programmatically\n",
        "    represent the relationship.\n",
        "\n",
        "    Args:\n",
        "        n_shots (int): The number of shots\n",
        "\n",
        "    Returns:\n",
        "        float: The variance in expectation value we expect to see when we run\n",
        "        an experiment with n_shots shots.\n",
        "    \"\"\"\n",
        "\n",
        "    estimated_variance = 1 / n_shots\n",
        "\n",
        "    ##################\n",
        "    # YOUR CODE HERE #\n",
        "    ##################\n",
        "\n",
        "    # ESTIMATE THE VARIANCE BASED ON SHOT NUMBER\n",
        "\n",
        "    return estimated_variance\n",
        "\n",
        "\n",
        "# Various numbers of shots; you can change this\n",
        "shot_vals = [10, 20, 40, 100, 200, 400, 1000, 2000, 4000]\n",
        "\n",
        "def plotter(shot_vals, results_experiment, results_scaling):\n",
        "    plt.plot(shot_vals, results_experiment, 'bo', label='Experimental Results')\n",
        "    plt.plot(shot_vals, results_scaling, 'ro', label='Theoretical Scaling')\n",
        "    plt.grid()\n",
        "    plt.xlabel('Number of Shots')\n",
        "    plt.ylabel('Variance in Expectation Value')\n",
        "    plt.title('Variance in Expectation Value vs Number of Shots')\n",
        "    plt.legend()\n",
        "    plt.show()\n",
        "\n",
        "# Used to plot your results\n",
        "results_experiment = [variance_experiment(shots) for shots in shot_vals]\n",
        "results_scaling = [variance_scaling(shots) for shots in shot_vals]\n",
        "plot = plotter(shot_vals, results_experiment, results_scaling)"
      ],
      "metadata": {
        "id": "9PvLXuWNmWC0",
        "colab": {
          "base_uri": "https://localhost:8080/",
          "height": 472
        },
        "outputId": "7a5873e7-a44e-4350-ac3f-baae0aaef64b"
      },
      "execution_count": 19,
      "outputs": [
        {
          "output_type": "display_data",
          "data": {
            "text/plain": [
              "<Figure size 640x480 with 1 Axes>"
            ],
            "image/png": "[encoded data removed]"
          },
          "metadata": {}
        }
      ]
    },
    {
      "cell_type": "markdown",
      "source": [
        "# **Circuits With Many Qubits**"
      ],
      "metadata": {
        "id": "OFhUt_MQnhFG"
      }
    },
    {
      "cell_type": "markdown",
      "source": [
        "# 1. Multi Qubit Systems"
      ],
      "metadata": {
        "id": "Azh8XLh7nm55"
      }
    },
    {
      "cell_type": "markdown",
      "source": [
        "* I can construct the state of a multi-qubit system using the tensor product.\n",
        "* I can define and apply separable operations to multiple qubits."
      ],
      "metadata": {
        "id": "qdSfa1o-nyhH"
      }
    },
    {
      "cell_type": "code",
      "source": [
        "\"\"\" ------ Codercise I.11.1 -> Preparing Basis State ------ \"\"\"\n",
        "\n",
        "num_wires = 3\n",
        "dev = qml.device(\"default.qubit\", wires=num_wires)\n",
        "\n",
        "\n",
        "@qml.qnode(dev)\n",
        "def make_basis_state(basis_id):\n",
        "    \"\"\"Produce the 3-qubit basis state corresponding to |basis_id>.\n",
        "\n",
        "    Note that the system starts in |000>.\n",
        "\n",
        "    Args:\n",
        "        basis_id (int): An integer value identifying the basis state to construct.\n",
        "\n",
        "    Returns:\n",
        "        np.array[complex]: The computational basis state |basis_id>.\n",
        "    \"\"\"\n",
        "\n",
        "    ##################\n",
        "    # YOUR CODE HERE #\n",
        "    ##################\n",
        "\n",
        "    # CREATE THE BASIS STATE\n",
        "    binary_str = np.binary_repr(basis_id, num_wires)\n",
        "    basis_state = [int(i) for i in binary_str]\n",
        "    qml.BasisState(basis_state, wires=range(num_wires))\n",
        "    return qml.state()\n",
        "\n",
        "    return qml.state()\n",
        "\n",
        "\n",
        "basis_id = 3\n",
        "print(f\"Output state = {make_basis_state(basis_id)}\")"
      ],
      "metadata": {
        "id": "zsDkWWUkn8H6",
        "colab": {
          "base_uri": "https://localhost:8080/"
        },
        "outputId": "034cd6c0-ba68-4588-dcad-ebcb3e601936"
      },
      "execution_count": null,
      "outputs": [
        {
          "output_type": "stream",
          "name": "stdout",
          "text": [
            "Output state = [0.+0.j 0.+0.j 0.+0.j 1.+0.j 0.+0.j 0.+0.j 0.+0.j 0.+0.j]\n"
          ]
        }
      ]
    },
    {
      "cell_type": "code",
      "source": [
        "\"\"\" ------ Codercise I.11.2 -> Separables Operations ------ \"\"\"\n",
        "\n",
        "# Creates a device with *two* qubits\n",
        "dev = qml.device(\"default.qubit\", wires=2)\n",
        "\n",
        "\n",
        "@qml.qnode(dev)\n",
        "def two_qubit_circuit():\n",
        "    ##################\n",
        "    # YOUR CODE HERE #\n",
        "    ##################\n",
        "\n",
        "    # PREPARE |+>|1>\n",
        "    qml.Hadamard(0)\n",
        "    qml.PauliX(1)\n",
        "\n",
        "    # RETURN TWO EXPECTATION VALUES, Y ON FIRST QUBIT, Z ON SECOND QUBIT\n",
        "\n",
        "    return qml.expval(qml.PauliY(0)), qml.expval(qml.PauliZ(1))\n",
        "\n",
        "\n",
        "print(two_qubit_circuit())"
      ],
      "metadata": {
        "id": "WG-VxCkzpUuo",
        "colab": {
          "base_uri": "https://localhost:8080/"
        },
        "outputId": "d5c73d3b-3d22-425d-caae-043f2c1da049"
      },
      "execution_count": null,
      "outputs": [
        {
          "output_type": "stream",
          "name": "stdout",
          "text": [
            "(tensor(0., requires_grad=True), tensor(-1., requires_grad=True))\n"
          ]
        }
      ]
    },
    {
      "cell_type": "code",
      "source": [
        "\"\"\" ------ Codercise I.11.3 -> Expactation Value of Two-Qubit Observable ------ \"\"\"\n",
        "\n",
        "dev = qml.device(\"default.qubit\", wires=2)\n",
        "\n",
        "\n",
        "@qml.qnode(dev)\n",
        "def create_one_minus():\n",
        "    ##################\n",
        "    # YOUR CODE HERE #\n",
        "    ##################\n",
        "\n",
        "    # PREPARE |1>|->\n",
        "    qml.PauliX(0)\n",
        "    qml.PauliX(1)\n",
        "    qml.Hadamard(1)\n",
        "\n",
        "    # RETURN A SINGLE EXPECTATION VALUE Z \\otimes X\n",
        "\n",
        "    return qml.expval(qml.PauliZ(0) @ qml.PauliX(1))\n",
        "\n",
        "\n",
        "print(create_one_minus())"
      ],
      "metadata": {
        "id": "4DAfE-zQqA8V",
        "colab": {
          "base_uri": "https://localhost:8080/"
        },
        "outputId": "f770581e-6bc9-42e6-ceb2-64ded210b5ec"
      },
      "execution_count": null,
      "outputs": [
        {
          "output_type": "stream",
          "name": "stdout",
          "text": [
            "0.9999999999999996\n"
          ]
        }
      ]
    },
    {
      "cell_type": "markdown",
      "source": [
        "![image.png](data:image/png;base64,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)"
      ],
      "metadata": {
        "id": "DqsFOf9erj5B"
      }
    },
    {
      "cell_type": "code",
      "source": [
        "\"\"\" ------ Codercise I.11.4 -> Double Trouble ------ \"\"\"\n",
        "\n",
        "dev = qml.device(\"default.qubit\", wires=2)\n",
        "\n",
        "\n",
        "@qml.qnode(dev)\n",
        "def circuit_1(theta):\n",
        "    \"\"\"Implement the circuit and measure Z I and I Z.\n",
        "\n",
        "    Args:\n",
        "        theta (float): a rotation angle.\n",
        "\n",
        "    Returns:\n",
        "        float, float: The expectation values of the observables Z I, and I Z\n",
        "    \"\"\"\n",
        "    ##################\n",
        "    # YOUR CODE HERE #\n",
        "    ##################\n",
        "    qml.RX(theta, 0)\n",
        "    qml.RY(2 * theta, 1)\n",
        "\n",
        "    return (qml.expval(qml.PauliZ(0)), qml.expval(qml.PauliZ(1)))\n",
        "\n",
        "\n",
        "@qml.qnode(dev)\n",
        "def circuit_2(theta):\n",
        "    \"\"\"Implement the circuit and measure Z Z.\n",
        "\n",
        "    Args:\n",
        "        theta (float): a rotation angle.\n",
        "\n",
        "    Returns:\n",
        "        float: The expectation value of the observable Z Z\n",
        "    \"\"\"\n",
        "\n",
        "    ##################\n",
        "    # YOUR CODE HERE #\n",
        "    ##################\n",
        "    qml.RX(theta, 0)\n",
        "    qml.RY(2 * theta, 1)\n",
        "\n",
        "\n",
        "    return qml.expval(qml.PauliZ(0)@qml.PauliZ(1))\n",
        "\n",
        "\n",
        "\n",
        "def zi_iz_combination(ZI_results, IZ_results):\n",
        "    \"\"\"Implement a function that acts on the ZI and IZ results to\n",
        "    produce the ZZ results. How do you think they should combine?\n",
        "\n",
        "    Args:\n",
        "        ZI_results (np.array[float]): Results from the expectation value of\n",
        "            ZI in circuit_1.\n",
        "        IZ_results (np.array[float]): Results from the expectation value of\n",
        "            IZ in circuit_2.\n",
        "\n",
        "    Returns:\n",
        "        np.array[float]: A combination of ZI_results and IZ_results that\n",
        "        produces results equivalent to measuring ZZ.\n",
        "    \"\"\"\n",
        "\n",
        "    combined_results = ZI_results * IZ_results\n",
        "\n",
        "    ##################\n",
        "    # YOUR CODE HERE #\n",
        "    ##################\n",
        "\n",
        "    return combined_results\n",
        "\n",
        "\n",
        "theta = np.linspace(0, 2 * np.pi, 100)\n",
        "\n",
        "# Run circuit 1, and process the results\n",
        "circuit_1_results = np.array([circuit_1(t) for t in theta])\n",
        "\n",
        "ZI_results = circuit_1_results[:, 0]\n",
        "IZ_results = circuit_1_results[:, 1]\n",
        "combined_results = zi_iz_combination(ZI_results, IZ_results)\n",
        "\n",
        "# Run circuit 2\n",
        "ZZ_results = np.array([circuit_2(t) for t in theta])\n",
        "\n",
        "def plotter(theta, ZI_results, IZ_results, ZZ_results, combined_results):\n",
        "    plt.plot(theta, ZI_results, label='ZI')\n",
        "    plt.plot(theta, IZ_results, label='IZ')\n",
        "    plt.plot(theta, ZZ_results, label='ZZ')\n",
        "    plt.plot(theta, combined_results, label='Combined ZI and IZ')\n",
        "    plt.xlabel('Theta')\n",
        "    plt.ylabel('Expectation Value')\n",
        "    plt.title('Expectation Values of ZI, IZ, ZZ, and Combined ZI and IZ')\n",
        "    plt.grid()\n",
        "    plt.legend()\n",
        "    plt.show()\n",
        "\n",
        "# Plot your results\n",
        "plot = plotter(theta, ZI_results, IZ_results, ZZ_results, combined_results)"
      ],
      "metadata": {
        "id": "lLAX5GDkq7f2",
        "colab": {
          "base_uri": "https://localhost:8080/",
          "height": 472
        },
        "outputId": "2cf5a70a-f938-4b85-90d7-6a0e115b6380"
      },
      "execution_count": 21,
      "outputs": [
        {
          "output_type": "display_data",
          "data": {
            "text/plain": [
              "<Figure size 640x480 with 1 Axes>"
            ],
            "image/png": "[encoded data removed]"
          },
          "metadata": {}
        }
      ]
    },
    {
      "cell_type": "markdown",
      "source": [
        "# 2. All Tied Up"
      ],
      "metadata": {
        "id": "w9yJ17qGtfml"
      }
    },
    {
      "cell_type": "markdown",
      "source": [
        "* I can define and apply entangling operations to multi-qubit systems.\n",
        "* How to define the controlled-NOT (CNOT) gate, and write it's matrix representation.\n",
        "* How to define and apply general controlled operations."
      ],
      "metadata": {
        "id": "wKeoRXaouMl0"
      }
    },
    {
      "cell_type": "code",
      "source": [
        "\"\"\" ------ Codercise I.12.1 -> Entangling Operations ------ \"\"\"\n",
        "\n",
        "num_wires = 2\n",
        "dev = qml.device(\"default.qubit\", wires=num_wires)\n",
        "\n",
        "\n",
        "@qml.qnode(dev)\n",
        "def apply_cnot(basis_id):\n",
        "    \"\"\"Apply a CNOT to |basis_id>.\n",
        "\n",
        "    Args:\n",
        "        basis_id (int): An integer value identifying the basis state to construct.\n",
        "\n",
        "    Returns:\n",
        "        np.array[complex]: The resulting state after applying CNOT|basis_id>.\n",
        "    \"\"\"\n",
        "\n",
        "    # Prepare the basis state |basis_id>\n",
        "    bits = [int(x) for x in np.binary_repr(basis_id, width=num_wires)]\n",
        "    qml.BasisStatePreparation(bits, wires=[0, 1])\n",
        "\n",
        "    ##################\n",
        "    # YOUR CODE HERE #\n",
        "    ##################\n",
        "\n",
        "    # APPLY THE CNOT\n",
        "    qml.CNOT(wires=[0, 1])\n",
        "\n",
        "    return qml.state()\n",
        "\n",
        "\n",
        "##################\n",
        "# YOUR CODE HERE #\n",
        "##################\n",
        "\n",
        "# REPLACE THE BIT STRINGS VALUES BELOW WITH THE CORRECT ONES\n",
        "cnot_truth_table = {\"00\": \"00\", \"01\": \"01\", \"10\": \"11\", \"11\": \"10\"}\n",
        "\n",
        "\n",
        "# Run your QNode with various inputs to help fill in your truth table\n",
        "print(apply_cnot(0))"
      ],
      "metadata": {
        "id": "CLZlQr2SuGuh",
        "colab": {
          "base_uri": "https://localhost:8080/"
        },
        "outputId": "4b8479b9-ae9b-434b-d042-9d63e69e514a"
      },
      "execution_count": null,
      "outputs": [
        {
          "output_type": "stream",
          "name": "stdout",
          "text": [
            "[1.+0.j 0.+0.j 0.+0.j 0.+0.j]\n"
          ]
        }
      ]
    },
    {
      "cell_type": "code",
      "source": [
        "\"\"\" ------ Codercise I.12.2 -> Separable or Entangled ------ \"\"\"\n",
        "\n",
        "dev = qml.device(\"default.qubit\", wires=2)\n",
        "\n",
        "\n",
        "@qml.qnode(dev)\n",
        "def apply_h_cnot():\n",
        "    ##################\n",
        "    # YOUR CODE HERE #\n",
        "    ##################\n",
        "\n",
        "    # APPLY THE OPERATIONS IN THE CIRCUIT\n",
        "    qml.Hadamard(0)\n",
        "    qml.CNOT(wires=[0,1])\n",
        "\n",
        "    return qml.state()\n",
        "\n",
        "\n",
        "print(apply_h_cnot())\n",
        "\n",
        "##################\n",
        "# YOUR CODE HERE #\n",
        "##################\n",
        "\n",
        "# SET THIS AS 'separable' OR 'entangled' BASED ON YOUR OUTCOME\n",
        "state_status = \"entangled\""
      ],
      "metadata": {
        "id": "WnVT4c2Ju2xZ",
        "colab": {
          "base_uri": "https://localhost:8080/"
        },
        "outputId": "0692ab31-f19f-47a2-9f98-fdb9e10bd39b"
      },
      "execution_count": null,
      "outputs": [
        {
          "output_type": "stream",
          "name": "stdout",
          "text": [
            "[0.70710678+0.j 0.        +0.j 0.        +0.j 0.70710678+0.j]\n"
          ]
        }
      ]
    },
    {
      "cell_type": "markdown",
      "source": [
        "![image.png](data:image/png;base64,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)"
      ],
      "metadata": {
        "id": "jwIC-Qq_v2-g"
      }
    },
    {
      "cell_type": "code",
      "source": [
        "\"\"\" ------ Codercise I.12.3 -> Controlled Rotations ------ \"\"\"\n",
        "\n",
        "dev = qml.device(\"default.qubit\", wires=3)\n",
        "\n",
        "\n",
        "@qml.qnode(dev)\n",
        "def controlled_rotations(theta, phi, omega):\n",
        "    \"\"\"Implement the circuit above and return measurement outcome probabilities.\n",
        "\n",
        "    Args:\n",
        "        theta (float): A rotation angle\n",
        "        phi (float): A rotation angle\n",
        "        omega (float): A rotation angle\n",
        "\n",
        "    Returns:\n",
        "        np.array[float]: Measurement outcome probabilities of the 3-qubit\n",
        "        computational basis states.\n",
        "    \"\"\"\n",
        "\n",
        "    ##################\n",
        "    # YOUR CODE HERE #\n",
        "    ##################\n",
        "\n",
        "    # APPLY THE OPERATIONS IN THE CIRCUIT AND RETURN MEASUREMENT PROBABILITIES\n",
        "    qml.Hadamard(0)\n",
        "    qml.CRX(theta, wires=[0,1])\n",
        "    qml.CRY(phi, wires=[1,2])\n",
        "    qml.CRZ(omega, wires=[2,0])\n",
        "\n",
        "    return qml.probs([0,1,2])\n",
        "\n",
        "\n",
        "theta, phi, omega = 0.1, 0.2, 0.3\n",
        "print(controlled_rotations(theta, phi, omega))"
      ],
      "metadata": {
        "id": "twsCOiFtvq1I",
        "colab": {
          "base_uri": "https://localhost:8080/"
        },
        "outputId": "d61ac214-61fa-4c90-ffde-cf621418e7cf"
      },
      "execution_count": null,
      "outputs": [
        {
          "output_type": "stream",
          "name": "stdout",
          "text": [
            "[5.00000000e-01 0.00000000e+00 0.00000000e+00 0.00000000e+00\n",
            " 4.98751041e-01 0.00000000e+00 1.23651067e-03 1.24480103e-05]\n"
          ]
        }
      ]
    },
    {
      "cell_type": "markdown",
      "source": [
        "# We've got it Under Control"
      ],
      "metadata": {
        "id": "BgxHkzpnwhmU"
      }
    },
    {
      "cell_type": "markdown",
      "source": [
        "* How to define and apply a set of common multi-qubit operations: the controlled-Z, Toffoli, and SWAP gates.\n",
        "* I can express common 3-qubit operations in terms of 1- and 2-qubit operations."
      ],
      "metadata": {
        "id": "n9mOSjo9wnIJ"
      }
    },
    {
      "cell_type": "code",
      "source": [
        "\"\"\" ------ Codercise I.13.1 -> The Imposter CZ ------ \"\"\"\n",
        "\n",
        "dev = qml.device(\"default.qubit\", wires=2)\n",
        "\n",
        "# Prepare a two-qubit state; change up the angles if you like\n",
        "phi, theta, omega = 1.2, 2.3, 3.4\n",
        "\n",
        "\n",
        "@qml.qnode(device=dev)\n",
        "def true_cz(phi, theta, omega):\n",
        "    prepare_states(phi, theta, omega)\n",
        "\n",
        "    ##################\n",
        "    # YOUR CODE HERE #\n",
        "    ##################\n",
        "\n",
        "    # IMPLEMENT THE REGULAR CZ GATE HERE\n",
        "    qml.CZ(wires=[0,1])\n",
        "\n",
        "    return qml.state()\n",
        "\n",
        "\n",
        "@qml.qnode(dev)\n",
        "def imposter_cz(phi, theta, omega):\n",
        "    prepare_states(phi, theta, omega)\n",
        "\n",
        "    ##################\n",
        "    # YOUR CODE HERE #\n",
        "    ##################\n",
        "\n",
        "    # IMPLEMENT CZ USING ONLY H AND CNOT\n",
        "    qml.Hadamard(wires=1)\n",
        "    qml.CNOT(wires=[0, 1])\n",
        "    qml.Hadamard(wires=1)\n",
        "\n",
        "    return qml.state()\n",
        "\n",
        "\n",
        "print(f\"True CZ output state {true_cz(phi, theta, omega)}\")\n",
        "print(f\"Imposter CZ output state {imposter_cz(phi, theta, omega)}\")\n"
      ],
      "metadata": {
        "id": "et3emXZlwy85",
        "colab": {
          "base_uri": "https://localhost:8080/"
        },
        "outputId": "a9f5ea7a-35bf-451a-d2e9-a2ccfcc762ca"
      },
      "execution_count": 8,
      "outputs": [
        {
          "output_type": "stream",
          "name": "stdout",
          "text": [
            "True CZ output state [1.+0.j 0.+0.j 0.+0.j 0.+0.j]\n",
            "Imposter CZ output state [1.+0.j 0.+0.j 0.+0.j 0.+0.j]\n"
          ]
        }
      ]
    },
    {
      "cell_type": "code",
      "source": [
        "\"\"\" ------ Codercise I.13.2 -> The SWAP Gate ------ \"\"\"\n",
        "\n",
        "dev = qml.device(\"default.qubit\", wires=2)\n",
        "\n",
        "# Prepare a two-qubit state; change up the angles if you like\n",
        "phi, theta, omega = 1.2, 2.3, 3.4\n",
        "\n",
        "def prepare_states(phi, theta, omega):\n",
        "    pass\n",
        "\n",
        "\n",
        "@qml.qnode(dev)\n",
        "def apply_swap(phi, theta, omega):\n",
        "    prepare_states(phi, theta, omega)\n",
        "\n",
        "    ##################\n",
        "    # YOUR CODE HERE #\n",
        "    ##################\n",
        "\n",
        "    # IMPLEMENT THE REGULAR SWAP GATE HERE\n",
        "    qml.SWAP(wires=[0,1])\n",
        "\n",
        "    return qml.state()\n",
        "\n",
        "\n",
        "@qml.qnode(dev)\n",
        "def apply_swap_with_cnots(phi, theta, omega):\n",
        "    prepare_states(phi, theta, omega)\n",
        "\n",
        "    ##################\n",
        "    # YOUR CODE HERE #\n",
        "    ##################\n",
        "\n",
        "    # IMPLEMENT THE SWAP GATE USING A SEQUENCE OF CNOTS\n",
        "    qml.CNOT(wires=[0,1])\n",
        "    qml.CNOT(wires=[1,0])\n",
        "    qml.CNOT(wires=[0,1])\n",
        "\n",
        "    return qml.state()\n",
        "\n",
        "\n",
        "print(f\"Regular SWAP state = {apply_swap(phi, theta, omega)}\")\n",
        "print(f\"CNOT SWAP state = {apply_swap_with_cnots(phi, theta, omega)}\")"
      ],
      "metadata": {
        "id": "tAx0_d5nxhMe",
        "colab": {
          "base_uri": "https://localhost:8080/"
        },
        "outputId": "743ae8aa-e1ba-4b01-c97f-13884d56a916"
      },
      "execution_count": 6,
      "outputs": [
        {
          "output_type": "stream",
          "name": "stdout",
          "text": [
            "Regular SWAP state = [1.+0.j 0.+0.j 0.+0.j 0.+0.j]\n",
            "CNOT SWAP state = [1.+0.j 0.+0.j 0.+0.j 0.+0.j]\n"
          ]
        }
      ]
    },
    {
      "cell_type": "code",
      "source": [
        "\"\"\" ------ Codercise I.13.3 -> The Toffoli Gate ------ \"\"\"\n",
        "\n",
        "dev = qml.device(\"default.qubit\", wires=3)\n",
        "\n",
        "# Prepare first qubit in |1>, and arbitrary states on the second two qubits\n",
        "phi, theta, omega = 1.2, 2.3, 3.4\n",
        "\n",
        "def prepare_states(phi, theta, omega):\n",
        "    pass\n",
        "\n",
        "\n",
        "# A helper function just so you can visualize the initial state\n",
        "# before the controlled SWAP occurs.\n",
        "@qml.qnode(dev)\n",
        "def no_swap(phi, theta, omega):\n",
        "    prepare_states(phi, theta, omega)\n",
        "    return qml.state()\n",
        "\n",
        "\n",
        "@qml.qnode(dev)\n",
        "def controlled_swap(phi, theta, omega):\n",
        "    prepare_states(phi, theta, omega)\n",
        "\n",
        "    ##################\n",
        "    # YOUR CODE HERE #\n",
        "    ##################\n",
        "\n",
        "    # PERFORM A CONTROLLED SWAP USING A SEQUENCE OF TOFFOLIS\n",
        "    qml.Toffoli(wires=[0, 1, 2])\n",
        "    qml.Toffoli(wires=[0, 2, 1])\n",
        "    qml.Toffoli(wires=[0, 1, 2])\n",
        "\n",
        "    return qml.state()\n",
        "\n",
        "\n",
        "print(no_swap(phi, theta, omega))\n",
        "print(controlled_swap(phi, theta, omega))"
      ],
      "metadata": {
        "id": "1y3brURQyEpg",
        "colab": {
          "base_uri": "https://localhost:8080/"
        },
        "outputId": "8787027c-1fb5-416c-d245-0ea4c4dfd155"
      },
      "execution_count": 7,
      "outputs": [
        {
          "output_type": "stream",
          "name": "stdout",
          "text": [
            "[1.+0.j 0.+0.j 0.+0.j 0.+0.j 0.+0.j 0.+0.j 0.+0.j 0.+0.j]\n",
            "[1.+0.j 0.+0.j 0.+0.j 0.+0.j 0.+0.j 0.+0.j 0.+0.j 0.+0.j]\n"
          ]
        }
      ]
    },
    {
      "cell_type": "markdown",
      "source": [
        "![image.png](data:image/png;base64,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)"
      ],
      "metadata": {
        "id": "qQlVHELvy0gy"
      }
    },
    {
      "cell_type": "code",
      "source": [
        "\"\"\" ------ Codercise I.13.4 -> Mixed Controlled Gates ------ \"\"\"\n",
        "\n",
        "dev = qml.device(\"default.qubit\", wires=4)\n",
        "\n",
        "\n",
        "@qml.qnode(dev)\n",
        "def four_qubit_mcx():\n",
        "    ##################\n",
        "    # YOUR CODE HERE #\n",
        "    ##################\n",
        "\n",
        "    # IMPLEMENT THE CIRCUIT ABOVE USING A 4-QUBIT MULTI-CONTROLLED X\n",
        "    qml.Hadamard(0)\n",
        "    qml.Hadamard(1)\n",
        "    qml.Hadamard(2)\n",
        "    qml.MultiControlledX(control_wires=[0, 1, 2], wires=3, control_values=\"001\")\n",
        "\n",
        "    return qml.state()\n",
        "\n",
        "\n",
        "print(four_qubit_mcx())\n"
      ],
      "metadata": {
        "id": "96Hz2Lp1yt4v",
        "colab": {
          "base_uri": "https://localhost:8080/"
        },
        "outputId": "b4e52bd6-eee7-45c4-ce70-aab5bc83074d"
      },
      "execution_count": null,
      "outputs": [
        {
          "output_type": "stream",
          "name": "stdout",
          "text": [
            "[0.35355339+0.j 0.        +0.j 0.        +0.j 0.35355339+0.j\n",
            " 0.35355339+0.j 0.        +0.j 0.35355339+0.j 0.        +0.j\n",
            " 0.35355339+0.j 0.        +0.j 0.35355339+0.j 0.        +0.j\n",
            " 0.35355339+0.j 0.        +0.j 0.35355339+0.j 0.        +0.j]\n"
          ]
        },
        {
          "output_type": "stream",
          "name": "stderr",
          "text": [
            "/usr/local/lib/python3.10/dist-packages/pennylane/ops/op_math/controlled_ops.py:1071: PennyLaneDeprecationWarning: Specifying control values using a bitstring is deprecated, and will not be supported in future releases, Use a list of booleans or integers instead.\n",
            "  warnings.warn(\n",
            "/usr/local/lib/python3.10/dist-packages/pennylane/ops/op_math/controlled_ops.py:1077: UserWarning: The control_wires keyword for MultiControlledX is deprecated, and will be removed soon. Use wires = (*control_wires, target_wire) instead.\n",
            "  warnings.warn(\n"
          ]
        }
      ]
    },
    {
      "cell_type": "code",
      "source": [
        "\"\"\" ------ Codercise I.13.5 -> The 3-Controlled-Not ------ \"\"\"\n",
        "\n",
        "# Wires 0, 1, 2 are the control qubits\n",
        "# Wire 3 is the auxiliary qubit\n",
        "# Wire 4 is the target\n",
        "dev = qml.device(\"default.qubit\", wires=5)\n",
        "\n",
        "\n",
        "@qml.qnode(dev)\n",
        "def four_qubit_mcx_only_tofs():\n",
        "    # We will initialize the control qubits in state |1> so you can see\n",
        "    # how the output state gets changed.\n",
        "    qml.PauliX(wires=0)\n",
        "    qml.PauliX(wires=1)\n",
        "    qml.PauliX(wires=2)\n",
        "\n",
        "    ##################\n",
        "    # YOUR CODE HERE #\n",
        "    ##################\n",
        "\n",
        "    # IMPLEMENT A 3-CONTROLLED NOT WITH TOFFOLIS\n",
        "    qml.Toffoli(wires=[0, 1, 3])\n",
        "    qml.Toffoli(wires=[2, 3, 4])\n",
        "    qml.Toffoli(wires=[0, 1, 3])\n",
        "\n",
        "    return qml.state()\n",
        "\n",
        "\n",
        "# print(four_qubit_mcx_only_tofs())"
      ],
      "metadata": {
        "id": "LNBgmhWMzrIR"
      },
      "execution_count": null,
      "outputs": []
    },
    {
      "cell_type": "markdown",
      "source": [
        "# Multi-Qubit Gate Challenge"
      ],
      "metadata": {
        "id": "Xn_wPHM8z47M"
      }
    },
    {
      "cell_type": "markdown",
      "source": [
        "* I can use this as a reference for all your single- and multi-qubit gate needs!\n",
        "* How to prepare two-qubit states by combinaning single- and two-qubit gates."
      ],
      "metadata": {
        "id": "_Eja4h_K0Gnd"
      }
    },
    {
      "cell_type": "code",
      "source": [
        "\"\"\" ------ Codercise I.14.1 -> The Bell States ------ \"\"\"\n",
        "\n",
        "dev = qml.device(\"default.qubit\", wires=2)\n",
        "\n",
        "# Starting from the state |00>, implement a PennyLane circuit\n",
        "# to construct each of the Bell basis states.\n",
        "\n",
        "\n",
        "@qml.qnode(dev)\n",
        "def prepare_psi_plus():\n",
        "    ##################\n",
        "    # YOUR CODE HERE #\n",
        "    ##################\n",
        "\n",
        "    # PREPARE (1/sqrt(2)) (|00> + |11>)\n",
        "    qml.Hadamard(wires=0)\n",
        "    qml.CNOT(wires=[0, 1])\n",
        "\n",
        "    return qml.state()\n",
        "\n",
        "\n",
        "@qml.qnode(dev)\n",
        "def prepare_psi_minus():\n",
        "    ##################\n",
        "    # YOUR CODE HERE #\n",
        "    ##################\n",
        "\n",
        "    # PREPARE (1/sqrt(2)) (|00> - |11>)\n",
        "    qml.Hadamard(wires=0)\n",
        "    qml.CNOT(wires=[0, 1])\n",
        "    qml.PauliZ(wires=1)\n",
        "\n",
        "    return qml.state()\n",
        "\n",
        "\n",
        "@qml.qnode(dev)\n",
        "def prepare_phi_plus():\n",
        "    ##################\n",
        "    # YOUR CODE HERE #\n",
        "    ##################\n",
        "\n",
        "    # PREPARE  (1/sqrt(2)) (|01> + |10>)\n",
        "    qml.Hadamard(wires=0)\n",
        "    qml.CNOT(wires=[0, 1])\n",
        "    qml.PauliX(wires=0)\n",
        "\n",
        "    return qml.state()\n",
        "\n",
        "\n",
        "@qml.qnode(dev)\n",
        "def prepare_phi_minus():\n",
        "    ##################\n",
        "    # YOUR CODE HERE #\n",
        "    ##################\n",
        "\n",
        "    # PREPARE  (1/sqrt(2)) (|01> - |10>)\n",
        "    qml.Hadamard(wires=0)\n",
        "    qml.CNOT(wires=[0, 1])\n",
        "    qml.PauliZ(wires=1)\n",
        "    qml.PauliX(wires=1)\n",
        "\n",
        "    return qml.state()\n",
        "\n",
        "\n",
        "psi_plus = prepare_psi_plus()\n",
        "psi_minus = prepare_psi_minus()\n",
        "phi_plus = prepare_phi_plus()\n",
        "phi_minus = prepare_phi_minus()\n",
        "\n",
        "# Uncomment to print results\n",
        "# print(f\"|ψ_+> = {psi_plus}\")\n",
        "# print(f\"|ψ_-> = {psi_minus}\")\n",
        "# print(f\"|ϕ_+> = {phi_plus}\")\n",
        "# print(f\"|ϕ_-> = {phi_minus}\")"
      ],
      "metadata": {
        "id": "F_-c_Qcx0FZr"
      },
      "execution_count": null,
      "outputs": []
    },
    {
      "cell_type": "code",
      "source": [
        "\"\"\" ------ Codercise I.14.2 -> Quantum Multiplexer ------ \"\"\"\n",
        "\n",
        "dev = qml.device(\"default.qubit\", wires=3)\n",
        "\n",
        "# State of first 2 qubits\n",
        "state = [0, 1]\n",
        "\n",
        "\n",
        "@qml.qnode(device=dev)\n",
        "def apply_control_sequence(state):\n",
        "    # Set up initial state of the first two qubits\n",
        "    if state[0] == 1:\n",
        "        qml.PauliX(wires=0)\n",
        "    if state[1] == 1:\n",
        "        qml.PauliX(wires=1)\n",
        "\n",
        "    # Set up initial state of the third qubit - use |->\n",
        "    # so we can see the effect on the output\n",
        "    qml.PauliX(wires=2)\n",
        "    qml.Hadamard(wires=2)\n",
        "\n",
        "    ##################\n",
        "    # YOUR CODE HERE #\n",
        "    ##################\n",
        "\n",
        "    # IMPLEMENT THE MULTIPLEXER\n",
        "    # IF STATE OF FIRST TWO QUBITS IS 01, APPLY X TO THIRD QUBIT\n",
        "    qml.PauliX(0)\n",
        "    qml.Toffoli(wires=[0,1,2])\n",
        "    qml.PauliX(0)\n",
        "\n",
        "    # IF STATE OF FIRST TWO QUBITS IS 10, APPLY Z TO THIRD QUBIT\n",
        "    qml.PauliX(1)\n",
        "    qml.Hadamard(2)\n",
        "    qml.Toffoli(wires=[0,1,2])\n",
        "    qml.Hadamard(2)\n",
        "    qml.PauliX(1)\n",
        "\n",
        "    # IF STATE OF FIRST TWO QUBITS IS 11, APPLY Y TO THIRD QUBIT\n",
        "    qml.adjoint(qml.S)(wires=2)\n",
        "    qml.Toffoli(wires=[0, 1, 2])\n",
        "    qml.S(2)\n",
        "\n",
        "\n",
        "    return qml.state()\n",
        "\n",
        "\n",
        "print(apply_control_sequence(state))"
      ],
      "metadata": {
        "id": "J5ankRTX3XLJ",
        "colab": {
          "base_uri": "https://localhost:8080/"
        },
        "outputId": "c76e4eda-a6c5-41e4-af44-7dd4acd35183"
      },
      "execution_count": null,
      "outputs": [
        {
          "output_type": "stream",
          "name": "stdout",
          "text": [
            "[ 0.        +0.j  0.        +0.j -0.70710678+0.j  0.70710678+0.j\n",
            "  0.        +0.j  0.        +0.j  0.        +0.j  0.        +0.j]\n"
          ]
        }
      ]
    }
  ]
}